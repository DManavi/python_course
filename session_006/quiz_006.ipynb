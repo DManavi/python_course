{
 "cells": [
  {
   "attachments": {},
   "cell_type": "markdown",
   "metadata": {},
   "source": [
    "# سوال جلسه ششم\n",
    "\n",
    "- فایل نام شهرها city_names.txt\n",
    "- فایل دمای هوای شهرها city_temps.txt"
   ]
  },
  {
   "attachments": {},
   "cell_type": "markdown",
   "metadata": {},
   "source": [
    "## سوال ۱\n",
    "\n",
    "لیست ۱۰ شهر را از کاربر بگیرید و در یک لیست ذخیره کنید\n",
    "\n",
    "سپس اسم هر شهر در یک خط چاپ کنید"
   ]
  },
  {
   "cell_type": "code",
   "execution_count": null,
   "metadata": {},
   "outputs": [],
   "source": [
    "# your code goes here"
   ]
  },
  {
   "attachments": {},
   "cell_type": "markdown",
   "metadata": {},
   "source": [
    "## سوال ۲\n",
    "\n",
    "لیست شهرها را از کاربر دریافت کنید تا زمانی که نام شهر خالی نباشد این کار را ادامه دهید.\n",
    "\n",
    "در انتها تعداد شهرهای وارد شده را نمایش دهید"
   ]
  },
  {
   "cell_type": "code",
   "execution_count": null,
   "metadata": {},
   "outputs": [],
   "source": [
    "# your code goes here"
   ]
  },
  {
   "attachments": {},
   "cell_type": "markdown",
   "metadata": {},
   "source": [
    "## سوال ۳\n",
    "\n",
    "اعداد زوج بین ۵ الی ۵۰ را به روش های زیر نمایش دهید\n",
    "\n",
    "- while - continue\n",
    "- while - if/else\n",
    "- range - if/else\n",
    "- range - step"
   ]
  },
  {
   "cell_type": "code",
   "execution_count": null,
   "metadata": {},
   "outputs": [],
   "source": [
    "# while - continue"
   ]
  },
  {
   "cell_type": "code",
   "execution_count": null,
   "metadata": {},
   "outputs": [],
   "source": [
    "# while - if/else"
   ]
  },
  {
   "cell_type": "code",
   "execution_count": null,
   "metadata": {},
   "outputs": [],
   "source": [
    "# range - if/else"
   ]
  },
  {
   "cell_type": "code",
   "execution_count": null,
   "metadata": {},
   "outputs": [],
   "source": [
    "# range - step"
   ]
  },
  {
   "attachments": {},
   "cell_type": "markdown",
   "metadata": {},
   "source": [
    "## سوال ۴\n",
    "\n",
    "- لیست نام شهرها و دمای‌ هوا را از فایل خوانده\n",
    "- نام شهر را از کاربر دریافت کرده و دمای آن را در خروجی نشان دهید\n",
    "\n",
    "> استفاده از zip"
   ]
  },
  {
   "cell_type": "code",
   "execution_count": null,
   "metadata": {},
   "outputs": [],
   "source": [
    "# your code goes here"
   ]
  },
  {
   "attachments": {},
   "cell_type": "markdown",
   "metadata": {},
   "source": [
    "## سوال ۵\n",
    "\n",
    "- لیست نام شهرها و دمای‌ هوا را از فایل خوانده\n",
    "- نام گرمترین و سردترین شهر را در خروجی نشان دهید"
   ]
  },
  {
   "cell_type": "code",
   "execution_count": null,
   "metadata": {},
   "outputs": [],
   "source": [
    "# your code goes here"
   ]
  },
  {
   "attachments": {},
   "cell_type": "markdown",
   "metadata": {},
   "source": [
    "## سوال ۶\n",
    "\n",
    "نام و دمای شهر دلخواه را از کاربر دریافت کرده و به انتهای فایل های مربوطه اضافه کنید"
   ]
  },
  {
   "cell_type": "code",
   "execution_count": 1,
   "metadata": {},
   "outputs": [],
   "source": [
    "# your code goes here"
   ]
  },
  {
   "attachments": {},
   "cell_type": "markdown",
   "metadata": {},
   "source": [
    "## سوال ۷\n",
    "\n",
    "۳ عدد از کاربر دریافت کنید\n",
    "\n",
    "- عدد اول حد پایین\n",
    "- عدد دوم حد بالا\n",
    "- عدد سوم تعداد اعداد تصادفی\n",
    "\n",
    "به تعداد درخواست شده (پارامتر ۳) عدد تصادفی بزرگتر از حد پایین (پارامتر ۱) و حد بالا (پارامتر ۲) تولید کنید و در خروجی نمایش دهید\n",
    "\n",
    "### مثال\n",
    "\n",
    "start   = 20\n",
    "end     = 50\n",
    "count   = 5\n",
    "\n",
    "21\n",
    "39\n",
    "43\n",
    "50\n",
    "28"
   ]
  },
  {
   "cell_type": "code",
   "execution_count": null,
   "metadata": {},
   "outputs": [],
   "source": [
    "# your code goes here"
   ]
  }
 ],
 "metadata": {
  "kernelspec": {
   "display_name": "Python 3",
   "language": "python",
   "name": "python3"
  },
  "language_info": {
   "codemirror_mode": {
    "name": "ipython",
    "version": 3
   },
   "file_extension": ".py",
   "mimetype": "text/x-python",
   "name": "python",
   "nbconvert_exporter": "python",
   "pygments_lexer": "ipython3",
   "version": "3.10.10"
  },
  "orig_nbformat": 4
 },
 "nbformat": 4,
 "nbformat_minor": 2
}
