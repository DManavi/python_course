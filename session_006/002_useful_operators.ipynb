{
 "cells": [
  {
   "attachments": {},
   "cell_type": "markdown",
   "metadata": {},
   "source": [
    "# اپراتورهای / operator پر کاربرد"
   ]
  },
  {
   "attachments": {},
   "cell_type": "markdown",
   "metadata": {},
   "source": [
    "## range / بازه\n",
    "\n",
    "برای تولید یک بازه عددی بین ۲ عدد مشخص با گام مشخص استفاده می شود\n",
    "\n",
    "\n",
    "### قالب کلی\n",
    "- range(end)\n",
    "- range(start, end)\n",
    "- range(start, end, step)\n",
    "\n",
    "| نام پارامتر | اجباری | مقدار پیش فرش |\n",
    "|:-:|:-:|:-:|\n",
    "|end|بله|-|\n",
    "|start|خیر|0|\n",
    "|step|خیر|1|"
   ]
  },
  {
   "cell_type": "code",
   "execution_count": 2,
   "metadata": {},
   "outputs": [
    {
     "name": "stdout",
     "output_type": "stream",
     "text": [
      "0\n",
      "1\n",
      "2\n",
      "3\n",
      "4\n",
      "5\n",
      "6\n",
      "7\n",
      "8\n",
      "9\n",
      "0\n",
      "1\n",
      "2\n",
      "3\n",
      "4\n",
      "5\n",
      "6\n",
      "7\n",
      "8\n",
      "9\n",
      "30\n",
      "31\n",
      "32\n",
      "33\n",
      "34\n",
      "35\n",
      "36\n",
      "37\n",
      "38\n",
      "39\n",
      "40\n",
      "41\n",
      "42\n",
      "43\n",
      "44\n",
      "45\n",
      "46\n",
      "47\n",
      "48\n",
      "49\n",
      "30\n",
      "35\n",
      "40\n",
      "45\n",
      "50\n",
      "0\n",
      "2\n",
      "4\n",
      "6\n",
      "8\n"
     ]
    }
   ],
   "source": [
    "# قالب کلی\n",
    "# range(end)\n",
    "# range(start, end)\n",
    "# range(start, end, step)\n",
    "\n",
    "# معادل در زبان جاوااسکریپت\n",
    "# for (let i = 0; i < 10; i++)\n",
    "\n",
    "for number in range(10):\n",
    "    print(number)\n",
    "\n",
    "for number in range(0, 10):\n",
    "    print(number)\n",
    "\n",
    "# معادل در زبان جاوااسکریپت\n",
    "# for (let i = 30; i < 50; i++)\n",
    "for n in range(30, 50):\n",
    "    print(n)\n",
    "\n",
    "# معادل در زبان جاوااسکریپت\n",
    "# for (let i = 30; i < 51; i = i + 5)\n",
    "for n in range(30, 51, 5):\n",
    "    print(n)\n",
    "\n",
    "\n",
    "# معادل در زبان جاوااسکریپت\n",
    "# for (let i = 0; i < 10; i = i + 2)\n",
    "for number in range(0, 10, 2):\n",
    "    print(number)"
   ]
  },
  {
   "attachments": {},
   "cell_type": "markdown",
   "metadata": {},
   "source": [
    "## enumerate / شمارش"
   ]
  },
  {
   "cell_type": "code",
   "execution_count": 4,
   "metadata": {},
   "outputs": [
    {
     "name": "stdout",
     "output_type": "stream",
     "text": [
      "0: E\n",
      "1: s\n",
      "2: f\n",
      "3: a\n",
      "4: h\n",
      "5: a\n",
      "6: n\n",
      "----------\n",
      "0: E\n",
      "1: s\n",
      "2: f\n",
      "3: a\n",
      "4: h\n",
      "5: a\n",
      "6: n\n",
      "----------\n",
      "0: Esfahan\n",
      "1: Shiraz\n",
      "2: Ahvaz\n",
      "3: Tabriz\n",
      "----------\n",
      "0: Esfahan\n",
      "1: Shiraz\n",
      "2: Ahvaz\n",
      "3: Tabriz\n",
      "----------\n",
      "0: Esfahan\n",
      "1: Shiraz\n",
      "2: Ahvaz\n",
      "3: Tabriz\n"
     ]
    }
   ],
   "source": [
    "# روش معمول برای شمارش و نوشتن حروف یک کلمه\n",
    "word = \"Esfahan\"\n",
    "letter_index = 0\n",
    "\n",
    "for letter in word:\n",
    "    print(f\"{letter_index}: {letter}\")\n",
    "    letter_index += 1\n",
    "\n",
    "print('----------')\n",
    "\n",
    "# روش جایگزین با enumerate\n",
    "for (letter_index, letter) in enumerate(word):\n",
    "    print(f\"{letter_index}: {letter}\")\n",
    "\n",
    "print('----------')\n",
    "\n",
    "cities = [\"Esfahan\", \"Shiraz\", \"Ahvaz\", \"Tabriz\"]\n",
    "\n",
    "# روش معمول برای شمارش و نوشتن آیتم های یک لیست\n",
    "city_index = 0\n",
    "for city in cities:\n",
    "    print(f\"{city_index}: {city}\")\n",
    "    city_index += 1\n",
    "\n",
    "print('----------')\n",
    "\n",
    "# روش نه چندان معمول برای شمارش و نوشتن آیتم های یک لیست\n",
    "for index in range(0, len(cities)):\n",
    "    print(f\"{index}: {cities[index]}\")\n",
    "\n",
    "print('----------')\n",
    "\n",
    "# استفاده از enumerate\n",
    "for (city_index, city) in enumerate(cities):\n",
    "    print(f\"{city_index}: {city}\")"
   ]
  },
  {
   "attachments": {},
   "cell_type": "markdown",
   "metadata": {},
   "source": [
    "## zip\n",
    "\n",
    "برای چسباندن دو (یا تعداد بیشتری لیست) و تولید یک تاپل به ازای هر ایندکس\n",
    "\n",
    "این ۳ لیست را در نظر بگیرید\n",
    "\n",
    "- list1 = [1, 2, 3]\n",
    "- list2 = [\"A\", \"B\", \"C\"]\n",
    "- list3 = [4, 5, 6]\n",
    "\n",
    "نتیجه چسباندن این ۳ لیست به یکدیگر،‌لیستی از تاپل ها به صورت زیر خواهد شد\n",
    "- [ (1, \"A\", 4), (2, \"B\", 5), (3, \"C\", 6) ]"
   ]
  },
  {
   "cell_type": "code",
   "execution_count": 26,
   "metadata": {},
   "outputs": [
    {
     "name": "stdout",
     "output_type": "stream",
     "text": [
      "Esfahan: 16.4\n",
      "Ahvaz: 21.7\n",
      "Tehran: 14\n"
     ]
    }
   ],
   "source": [
    "\n",
    "cities = [\"Esfahan\", \"Ahvaz\", \"Tehran\"]\n",
    "tempratures = [16.4, 21.7, 14]\n",
    "\n",
    "for (city, temp) in zip(cities, tempratures):\n",
    "    print(f\"{city}: {temp}\")\n"
   ]
  },
  {
   "cell_type": "code",
   "execution_count": 27,
   "metadata": {},
   "outputs": [
    {
     "name": "stdout",
     "output_type": "stream",
     "text": [
      "Esfahan: 16.4\n",
      "Ahvaz: 21.7\n",
      "Tehran: 14\n"
     ]
    }
   ],
   "source": [
    "\n",
    "cities = [\"Esfahan\", \"Ahvaz\", \"Tehran\"]     # 3 elements\n",
    "tempratures = [16.4, 21.7, 14, 19.5, 20.3]  # 4 elements\n",
    "\n",
    "for (city, temp) in zip(cities, tempratures):\n",
    "    print(f\"{city}: {temp}\")"
   ]
  },
  {
   "cell_type": "code",
   "execution_count": 5,
   "metadata": {},
   "outputs": [
    {
     "name": "stdout",
     "output_type": "stream",
     "text": [
      "Esfahan: 16.4 - rainy\n",
      "Ahvaz: 21.7 - clear\n",
      "Tehran: 14 - cloudy\n"
     ]
    }
   ],
   "source": [
    "cities = [\"Esfahan\", \"Ahvaz\", \"Tehran\", \"Tabriz\", \"Shiraz\", \"Kerman\", \"Zahedan\"]    # 7 elements\n",
    "tempratures = [16.4, 21.7, 14, 19.5, 20.3]                                          # 5 elements\n",
    "sky = [\"rainy\", \"clear\", \"cloudy\"]                                                  # 3 elements\n",
    "\n",
    "for (city, temp, city_sky) in zip(cities, tempratures, sky):\n",
    "    print(f\"{city}: {temp} - {city_sky}\")\n",
    "\n",
    "# print(list(zip(cities, tempratures, sky)))"
   ]
  },
  {
   "attachments": {},
   "cell_type": "markdown",
   "metadata": {},
   "source": [
    "## in\n",
    "\n",
    "از این اپراتور برای بررسی وجود یک مقدار در یک iterable استفاده می شود"
   ]
  },
  {
   "cell_type": "code",
   "execution_count": 6,
   "metadata": {},
   "outputs": [
    {
     "data": {
      "text/plain": [
       "False"
      ]
     },
     "execution_count": 6,
     "metadata": {},
     "output_type": "execute_result"
    }
   ],
   "source": [
    "# رشته / بررسی وجود یک رشته یا کارکتر\n",
    "'a' in 'Esfahan'\n",
    "\n",
    "# دیکشنری / استفاده از کلید\n",
    "'Esfahan' in { 'Ahvaz': 14.5 }\n",
    "\n",
    "# در لیست\n",
    "20 in [10, 20, 30, 40]\n",
    "\n",
    "# در ست\n",
    "32 in { 10, 50, 60, 40 }"
   ]
  },
  {
   "attachments": {},
   "cell_type": "markdown",
   "metadata": {},
   "source": [
    "## min/max\n",
    "\n",
    "یافتن کوچکترین و بزرگترین آیتم در یک لیست (مقدار عددی)"
   ]
  },
  {
   "cell_type": "code",
   "execution_count": 52,
   "metadata": {},
   "outputs": [
    {
     "data": {
      "text/plain": [
       "70"
      ]
     },
     "execution_count": 52,
     "metadata": {},
     "output_type": "execute_result"
    }
   ],
   "source": [
    "\n",
    "my_list = [5, 6, 1, 8, 20, 45, 32, 70]\n",
    "\n",
    "min(my_list)\n",
    "max(my_list)"
   ]
  }
 ],
 "metadata": {
  "kernelspec": {
   "display_name": "Python 3",
   "language": "python",
   "name": "python3"
  },
  "language_info": {
   "codemirror_mode": {
    "name": "ipython",
    "version": 3
   },
   "file_extension": ".py",
   "mimetype": "text/x-python",
   "name": "python",
   "nbconvert_exporter": "python",
   "pygments_lexer": "ipython3",
   "version": "3.10.10"
  },
  "orig_nbformat": 4
 },
 "nbformat": 4,
 "nbformat_minor": 2
}
