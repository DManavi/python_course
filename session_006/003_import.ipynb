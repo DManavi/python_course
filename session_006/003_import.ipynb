{
 "cells": [
  {
   "attachments": {},
   "cell_type": "markdown",
   "metadata": {},
   "source": [
    "# import\n",
    "\n",
    "استفاده از پکیج های دیگر / استفاده از امکانات دیگر پایتون\n",
    "\n",
    "## template / قالب\n",
    "\n",
    "### استفاده از همه پکیج\n",
    "import package_name\n",
    "\n",
    "### استفاده از یک ویژگی خاص\n",
    "from package_name import feature_name"
   ]
  },
  {
   "attachments": {},
   "cell_type": "markdown",
   "metadata": {},
   "source": [
    "## پکیج random"
   ]
  },
  {
   "attachments": {},
   "cell_type": "markdown",
   "metadata": {},
   "source": [
    "### shuffle"
   ]
  },
  {
   "cell_type": "code",
   "execution_count": 2,
   "metadata": {},
   "outputs": [
    {
     "name": "stdout",
     "output_type": "stream",
     "text": [
      "[6, 2, 1, 8, 3, 5, 7, 10, 9, 4]\n"
     ]
    }
   ],
   "source": [
    "# از پکیج random قابلیت (تابع) shuffle را وارد کن\n",
    "from random import shuffle\n",
    "\n",
    "# shuffle یک تابع in-place هست\n",
    "# تابع in-place مقدار یک متغیر را تغییر می دهد و خروجی ندارد (معمولا)\n",
    "\n",
    "my_list = [1, 2, 3, 4, 5, 6, 7, 8, 9, 10]\n",
    "\n",
    "shuffle(my_list) # -> None\n",
    "\n",
    "print(my_list)"
   ]
  },
  {
   "attachments": {},
   "cell_type": "markdown",
   "metadata": {},
   "source": [
    "### randint\n",
    "\n",
    "تولید عدد صحیح تصادفی\n",
    "\n",
    "#### قالب\n",
    "\n",
    "randint(start, end)\n",
    "\n",
    "> هر دو پارامتر inclusive می باشند"
   ]
  },
  {
   "cell_type": "code",
   "execution_count": 6,
   "metadata": {},
   "outputs": [
    {
     "data": {
      "text/plain": [
       "'Ahvaz'"
      ]
     },
     "execution_count": 6,
     "metadata": {},
     "output_type": "execute_result"
    }
   ],
   "source": [
    "# انتخاب یک شهر به صورت تصادفی از بین لیست شهرها\n",
    "\n",
    "from random import randint\n",
    "\n",
    "cities = [\"Esfahan\", \"Ahvaz\", \"Mashhad\", \"Qom\", \"Tehran\", \"Qazvin\", \"Shiraz\"]\n",
    "\n",
    "index = randint(0, len(cities) - 1)\n",
    "cities[index]\n"
   ]
  },
  {
   "attachments": {},
   "cell_type": "markdown",
   "metadata": {},
   "source": [
    "## input\n",
    "\n",
    "خواندن ورودی از کاربر\n",
    "\n",
    "### قالب\n",
    "\n",
    "input(prompt) -> str\n",
    "\n",
    "prompt متنی است که به کاربر نشان داده می شود"
   ]
  },
  {
   "cell_type": "code",
   "execution_count": 7,
   "metadata": {},
   "outputs": [
    {
     "name": "stdout",
     "output_type": "stream",
     "text": [
      "Danial is 34 year(s) old.\n",
      "<class 'str'>\n",
      "<class 'int'>\n"
     ]
    }
   ],
   "source": [
    "# مثال ۱\n",
    "\n",
    "my_name = input(\"Enter your name: \")\n",
    "my_age = int(input(\"Enter your age: \"))\n",
    "\n",
    "print(f\"{my_name} is {my_age} year(s) old.\")\n",
    "\n",
    "print(type(my_name))\n",
    "print(type(my_age))"
   ]
  },
  {
   "cell_type": "code",
   "execution_count": 9,
   "metadata": {},
   "outputs": [
    {
     "name": "stdout",
     "output_type": "stream",
     "text": [
      "City was not found.\n"
     ]
    }
   ],
   "source": [
    "# مثال ۲\n",
    "# ترکیب با if و in\n",
    "\n",
    "cities = { \"Ahvaz\": 35, \"Esfahan\": 24, \"Tehran\": 21 }\n",
    "\n",
    "city_name = input(\"Enter city name: \")\n",
    "\n",
    "if city_name in cities:\n",
    "    print(f\"Temprature is {cities[city_name]}\")\n",
    "else:\n",
    "    print(\"City was not found.\")"
   ]
  },
  {
   "attachments": {},
   "cell_type": "markdown",
   "metadata": {},
   "source": [
    "## Quiz\n",
    "\n",
    "یک لیست از شهرها بسازید\n",
    "\n",
    "از کاربر ایندکس شهر را بخواهید\n",
    "\n",
    "اگر ایندکس صحیح بود (در بازه قابل قبول بود) نام شهر را چاپ کنید"
   ]
  },
  {
   "cell_type": "code",
   "execution_count": 49,
   "metadata": {},
   "outputs": [
    {
     "name": "stdout",
     "output_type": "stream",
     "text": [
      "Shiraz\n"
     ]
    }
   ],
   "source": [
    "\n",
    "cities = [\"Esfahan\", \"Ahvaz\", \"Mashhad\", \"Qom\", \"Tehran\", \"Qazvin\", \"Shiraz\"]\n",
    "\n",
    "city_index = int(input(\"Enter city number: \"))\n",
    "\n",
    "if city_index > len(cities) - 1 or city_index < 0:\n",
    "    print(\"Invalid city number\")\n",
    "else:\n",
    "    print(cities[city_index])"
   ]
  }
 ],
 "metadata": {
  "kernelspec": {
   "display_name": "Python 3",
   "language": "python",
   "name": "python3"
  },
  "language_info": {
   "codemirror_mode": {
    "name": "ipython",
    "version": 3
   },
   "file_extension": ".py",
   "mimetype": "text/x-python",
   "name": "python",
   "nbconvert_exporter": "python",
   "pygments_lexer": "ipython3",
   "version": "3.10.10"
  },
  "orig_nbformat": 4
 },
 "nbformat": 4,
 "nbformat_minor": 2
}
