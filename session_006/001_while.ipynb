{
 "cells": [
  {
   "attachments": {},
   "cell_type": "markdown",
   "metadata": {},
   "source": [
    "# حلقه while\n",
    "\n",
    "از این حلقه برای اجرای دستورات (معمولا به تعدادی که از قبل مشخص نیست) استفاده می شود.\n",
    "\n",
    "مثال: نام شهر را از ورودی گرفته و به لیست اضافه کنید تا زمانی که کاربر نام شهر را خالی وارد کند"
   ]
  },
  {
   "cell_type": "code",
   "execution_count": null,
   "metadata": {},
   "outputs": [],
   "source": [
    "#while expression:\n",
    "    # command1...\n",
    "    # command2...\n",
    "#else:\n",
    "    # command3\n",
    "    # command4"
   ]
  },
  {
   "attachments": {},
   "cell_type": "markdown",
   "metadata": {},
   "source": [
    "## مثال\n",
    "\n",
    "تا زمانی که متفیر n از ۵ کوچکتر است، n را چاپ کنید"
   ]
  },
  {
   "cell_type": "code",
   "execution_count": 2,
   "metadata": {},
   "outputs": [
    {
     "name": "stdout",
     "output_type": "stream",
     "text": [
      "0\n",
      "1\n",
      "2\n",
      "3\n",
      "4\n",
      "N IS GREATER THAN OR EQUAL TO 5\n"
     ]
    }
   ],
   "source": [
    "n = 0\n",
    "\n",
    "while n < 5:\n",
    "    print(n)\n",
    "    n += 1\n",
    "else:\n",
    "    print(\"N IS GREATER THAN OR EQUAL TO 5\")\n",
    "\n",
    "# what is the use case of else in while python\n"
   ]
  },
  {
   "attachments": {},
   "cell_type": "markdown",
   "metadata": {},
   "source": [
    "## کاربرد else\n",
    "\n",
    "بلاک else فقط زمانی اجرا می شود که شرط خروج از حلقه برآورده شود"
   ]
  },
  {
   "cell_type": "code",
   "execution_count": 3,
   "metadata": {},
   "outputs": [
    {
     "name": "stdout",
     "output_type": "stream",
     "text": [
      "0\n",
      "1\n",
      "2\n"
     ]
    }
   ],
   "source": [
    "\"\"\"\n",
    "در این مثال،‌ چون قبل از برآورده شدن شرط خروج (n >= 5) اجرای حلقه break می شود، پیغام داخل بلاک else اجرا نخواهد شد.\n",
    "\"\"\"\n",
    "\n",
    "n = 0\n",
    "\n",
    "while n < 5:\n",
    "    print(n)\n",
    "    n += 1\n",
    "    if n == 3:\n",
    "        break\n",
    "else:\n",
    "    print(\"N IS GREATER THAN OR EQUAL TO 5\")\n"
   ]
  },
  {
   "attachments": {},
   "cell_type": "markdown",
   "metadata": {},
   "source": [
    "## کنترل اجرا\n",
    "\n",
    "- break\n",
    "- continue\n",
    "- pass"
   ]
  },
  {
   "attachments": {},
   "cell_type": "markdown",
   "metadata": {},
   "source": [
    "### break\n",
    "\n",
    "از این دستور برای خارج شدن از نزدیکترین حلقه استفاده می شود"
   ]
  },
  {
   "cell_type": "code",
   "execution_count": 4,
   "metadata": {},
   "outputs": [
    {
     "name": "stdout",
     "output_type": "stream",
     "text": [
      "0\n",
      "1\n",
      "2\n",
      "3\n",
      "4\n",
      "5\n",
      "6\n",
      "7\n",
      "8\n",
      "9\n",
      "10\n"
     ]
    }
   ],
   "source": [
    "n = 0\n",
    "\n",
    "# این شرط همیشه برقرار است\n",
    "while True:\n",
    "    print(n)\n",
    "\n",
    "    # چنانچه این دستور اجرا نشود، اجرای برنامه متوقف نخواهد شد\n",
    "    if n == 10:\n",
    "        break\n",
    "    \n",
    "    n += 1"
   ]
  },
  {
   "attachments": {},
   "cell_type": "markdown",
   "metadata": {},
   "source": [
    "### continue\n",
    "\n",
    "برای انتقال اجرای دستور به نزدیکترین حلقه استفاده می شود"
   ]
  },
  {
   "cell_type": "code",
   "execution_count": 5,
   "metadata": {},
   "outputs": [
    {
     "name": "stdout",
     "output_type": "stream",
     "text": [
      "5\n",
      "6\n",
      "7\n",
      "8\n",
      "9\n",
      "10\n"
     ]
    }
   ],
   "source": [
    "n = 0\n",
    "\n",
    "while n < 10:\n",
    "    n += 1\n",
    "\n",
    "    if n < 5:\n",
    "        continue\n",
    "\n",
    "    print(n)"
   ]
  },
  {
   "cell_type": "code",
   "execution_count": 7,
   "metadata": {},
   "outputs": [
    {
     "name": "stdout",
     "output_type": "stream",
     "text": [
      "Tabriz\n",
      "Tehran\n"
     ]
    }
   ],
   "source": [
    "cities = [\"Esfahan\", \"Ahvaz\", \"Mashhad\", \"Qazvin\", \"Tabriz\", \"Tehran\"]\n",
    "\n",
    "# نشان دادن نام شهرهایی که با حرف T آغاز می شوند\n",
    "\n",
    "for city in cities:\n",
    "    if city[0] != \"T\":\n",
    "        continue\n",
    "\n",
    "    print(city)"
   ]
  },
  {
   "attachments": {},
   "cell_type": "markdown",
   "metadata": {},
   "source": [
    "## pass\n",
    "\n",
    "برای رها کردن یک بلاک خالی از این دستور استفاده می شود"
   ]
  },
  {
   "cell_type": "code",
   "execution_count": 8,
   "metadata": {},
   "outputs": [
    {
     "ename": "KeyboardInterrupt",
     "evalue": "",
     "output_type": "error",
     "traceback": [
      "\u001b[1;31m---------------------------------------------------------------------------\u001b[0m",
      "\u001b[1;31mKeyboardInterrupt\u001b[0m                         Traceback (most recent call last)",
      "Cell \u001b[1;32mIn[8], line 3\u001b[0m\n\u001b[0;32m      1\u001b[0m n \u001b[39m=\u001b[39m \u001b[39m0\u001b[39m\n\u001b[1;32m----> 3\u001b[0m \u001b[39mwhile\u001b[39;00m n \u001b[39m<\u001b[39;49m \u001b[39m100\u001b[39;49m:\n\u001b[0;32m      4\u001b[0m     \u001b[39mpass\u001b[39;00m\n\u001b[0;32m      5\u001b[0m \u001b[39melse\u001b[39;00m:\n",
      "\u001b[1;31mKeyboardInterrupt\u001b[0m: "
     ]
    }
   ],
   "source": [
    "n = 0\n",
    "\n",
    "while n < 100:\n",
    "    pass\n",
    "else:\n",
    "    pass\n",
    "\n",
    "if n < 10:\n",
    "    pass\n",
    "else:\n",
    "    pass\n",
    "\n",
    "print(\"My name is Danial\")"
   ]
  }
 ],
 "metadata": {
  "kernelspec": {
   "display_name": "Python 3",
   "language": "python",
   "name": "python3"
  },
  "language_info": {
   "codemirror_mode": {
    "name": "ipython",
    "version": 3
   },
   "file_extension": ".py",
   "mimetype": "text/x-python",
   "name": "python",
   "nbconvert_exporter": "python",
   "pygments_lexer": "ipython3",
   "version": "3.10.10"
  },
  "orig_nbformat": 4
 },
 "nbformat": 4,
 "nbformat_minor": 2
}
