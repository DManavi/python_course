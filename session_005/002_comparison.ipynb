{
 "cells": [
  {
   "attachments": {},
   "cell_type": "markdown",
   "metadata": {},
   "source": [
    "# مقایسه گرها"
   ]
  },
  {
   "attachments": {},
   "cell_type": "markdown",
   "metadata": {},
   "source": [
    "## لیست مقایسه گرها\n",
    "\n",
    "|علامت|کاربرد|توضیح|\n",
    "|:-:|--:|--:|\n",
    "|<|مقایسه عددی|کوچکتر است از|\n",
    "|<=|مقایسه عددی|کوچکتر است از یا مساوی است با|\n",
    "|>|مقایسه عددی|بزرگتر است از|\n",
    "|>=|مقایسه عددی|بزرگتر است از یا مساوی است با|\n",
    "|!=|مقایسه عددی، منطقی و رشته ای|برابر نیست / مساوی نیست|\n",
    "|==|مقایسه عددی، منطقی و رشته ای|برابر است با / مساوی است با|"
   ]
  },
  {
   "attachments": {},
   "cell_type": "markdown",
   "metadata": {},
   "source": [
    "## ادغام / chaining\n",
    "\n",
    "|عملگر|توضیح| \n",
    "|:-:|--:|\n",
    "|and|بررسی برابری هر دو طرف|\n",
    "|or|بررسی برابری یک از دو طرف|\n",
    "|not|وارونه/معکوس کردن نتیجه|\n",
    "\n",
    "\n",
    "### جدول نتایج\n",
    "\n",
    "#### and\n",
    "\n",
    "| A | B | Output |\n",
    "|:-:|:-:|:-:|\n",
    "|True|True|True|\n",
    "|True|False|False|\n",
    "|False|True|False|\n",
    "|False|False|False|\n",
    "\n",
    "#### or\n",
    "\n",
    "| A | B | Output |\n",
    "|:-:|:-:|:-:|\n",
    "|True|True|True|\n",
    "|True|False|True|\n",
    "|False|True|True|\n",
    "|False|False|False|"
   ]
  },
  {
   "cell_type": "code",
   "execution_count": 4,
   "metadata": {},
   "outputs": [
    {
     "name": "stdout",
     "output_type": "stream",
     "text": [
      "True\n",
      "True\n",
      "True\n",
      "False\n",
      "True\n",
      "True\n"
     ]
    }
   ],
   "source": [
    "\n",
    "year = 2023\n",
    "sex = \"f\"\n",
    "\n",
    "# هر دو طرف and باید مقدار true داشته باشند\n",
    "print(\n",
    "    (year >= 2023) and (sex == \"f\")\n",
    ")\n",
    "\n",
    "# یکی/هر دو طرف or باید مقدار true داشته باشند\n",
    "print(\n",
    "    (year >= 2023) or (sex == \"m\")\n",
    ")\n",
    "print(\n",
    "    (sex == \"m\") or (sex == \"f\")\n",
    ")\n",
    "\n",
    "# نتیجه بررسی را معکوس می کند\n",
    "print(\n",
    "    not (10 > 5)\n",
    ")\n",
    "print(\n",
    "    not (10 < 5)\n",
    ")\n",
    "\n",
    "# عملیات گروهی (با استفاده از پرانتز)\n",
    "print(\n",
    "    (\n",
    "        (year <= 2023) and (year >= 2013)\n",
    "    ) and (\n",
    "        sex == \"f\" or sex == \"m\" or sex == \"+\"\n",
    "    )\n",
    ")\n"
   ]
  }
 ],
 "metadata": {
  "kernelspec": {
   "display_name": "Python 3",
   "language": "python",
   "name": "python3"
  },
  "language_info": {
   "codemirror_mode": {
    "name": "ipython",
    "version": 3
   },
   "file_extension": ".py",
   "mimetype": "text/x-python",
   "name": "python",
   "nbconvert_exporter": "python",
   "pygments_lexer": "ipython3",
   "version": "3.10.10"
  },
  "orig_nbformat": 4
 },
 "nbformat": 4,
 "nbformat_minor": 2
}
