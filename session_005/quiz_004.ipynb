{
 "cells": [
  {
   "attachments": {},
   "cell_type": "markdown",
   "metadata": {},
   "source": [
    "# سوال جلسه پنجم"
   ]
  },
  {
   "attachments": {},
   "cell_type": "markdown",
   "metadata": {},
   "source": [
    "## سوال ۱\n",
    "\n",
    "فایل city_list.txt را خوانده و نام شهرها را در یک خط و چسبیده به یکدیگر نشان دهید."
   ]
  },
  {
   "cell_type": "code",
   "execution_count": 1,
   "metadata": {},
   "outputs": [],
   "source": [
    "# your code goes here"
   ]
  },
  {
   "attachments": {},
   "cell_type": "markdown",
   "metadata": {},
   "source": [
    "## سوال ۲\n",
    "\n",
    "نام شهرها را از فایل city_list.txt خوانده، تکراری های آن را حذف کنید و تعداد شهرهای بدون تکرار را در خروجی نشان دهید"
   ]
  },
  {
   "cell_type": "code",
   "execution_count": 2,
   "metadata": {},
   "outputs": [],
   "source": [
    "# your code goes here"
   ]
  },
  {
   "attachments": {},
   "cell_type": "markdown",
   "metadata": {},
   "source": [
    "## سوال ۳\n",
    "\n",
    "نام یک شهر دلخواه را به فایل city_list.txt اضافه کنید (بدون حذف محتوای فعلی)"
   ]
  },
  {
   "cell_type": "code",
   "execution_count": null,
   "metadata": {},
   "outputs": [],
   "source": [
    "# your code goes here"
   ]
  },
  {
   "attachments": {},
   "cell_type": "markdown",
   "metadata": {},
   "source": [
    "## سوال ۴\n",
    "\n",
    "لیست شهرها را از فایل به صورت خط به خط خوانده و فقط نام شهرهای Qazvin و Yazd را در خروجی نمایش دهید.\n",
    "\n",
    "> ترکیب for و if/elif/else"
   ]
  },
  {
   "cell_type": "code",
   "execution_count": null,
   "metadata": {},
   "outputs": [],
   "source": [
    "# your code goes here"
   ]
  },
  {
   "attachments": {},
   "cell_type": "markdown",
   "metadata": {},
   "source": [
    "## سوال ۵\n",
    "\n",
    "یک دیکشنری از نام شهر و دمای هوا بسازید.\n",
    "لیست شهرها را ورودی خوانده و اسم و دمای هر شهر را در یک خط جداگانه نمایش دهید.\n",
    "\n",
    "> ترکیب if/elif/else و for\n",
    "> استفاده از dictionary (lookup table)"
   ]
  },
  {
   "cell_type": "code",
   "execution_count": null,
   "metadata": {},
   "outputs": [],
   "source": [
    "# your code goes here"
   ]
  }
 ],
 "metadata": {
  "kernelspec": {
   "display_name": "Python 3",
   "language": "python",
   "name": "python3"
  },
  "language_info": {
   "codemirror_mode": {
    "name": "ipython",
    "version": 3
   },
   "file_extension": ".py",
   "mimetype": "text/x-python",
   "name": "python",
   "nbconvert_exporter": "python",
   "pygments_lexer": "ipython3",
   "version": "3.10.10"
  },
  "orig_nbformat": 4
 },
 "nbformat": 4,
 "nbformat_minor": 2
}
