{
 "cells": [
  {
   "attachments": {},
   "cell_type": "markdown",
   "metadata": {},
   "source": [
    "# حلقه for / for loop"
   ]
  },
  {
   "attachments": {},
   "cell_type": "markdown",
   "metadata": {},
   "source": [
    "## تکرار شونده / iterable"
   ]
  },
  {
   "attachments": {},
   "cell_type": "markdown",
   "metadata": {},
   "source": [
    "انواع داده تکرار شونده\n",
    "\n",
    "list\n",
    "\n",
    "tuple\n",
    "\n",
    "set\n",
    "\n",
    "dict (dictionary)\n",
    "\n",
    "str"
   ]
  },
  {
   "attachments": {},
   "cell_type": "markdown",
   "metadata": {},
   "source": [
    "برای اجرای یک/یکسری دستور بر روی یک مجموعه تکرار شونده از حلقه for استفاده می کنیم."
   ]
  },
  {
   "attachments": {},
   "cell_type": "markdown",
   "metadata": {},
   "source": [
    "## ساختار کلی"
   ]
  },
  {
   "cell_type": "code",
   "execution_count": 2,
   "metadata": {},
   "outputs": [
    {
     "data": {
      "text/plain": [
       "'\\nalias نام مستعاری است که در هر اجرا به المنت/آیتم مورد نظر در مجموعه اشاره می کند\\n'"
      ]
     },
     "execution_count": 2,
     "metadata": {},
     "output_type": "execute_result"
    }
   ],
   "source": [
    "\"\"\"\n",
    "for alias in iterable:\n",
    "    # command1...\n",
    "    # command2...\n",
    "\"\"\"\n",
    "\n",
    "\"\"\"\n",
    "alias نام مستعاری است که در هر اجرا به المنت/آیتم مورد نظر در مجموعه اشاره می کند\n",
    "\"\"\""
   ]
  },
  {
   "attachments": {},
   "cell_type": "markdown",
   "metadata": {},
   "source": [
    "## لیست"
   ]
  },
  {
   "cell_type": "code",
   "execution_count": 3,
   "metadata": {},
   "outputs": [
    {
     "name": "stdout",
     "output_type": "stream",
     "text": [
      "Ahvaz\n",
      "Esfahan\n",
      "Tehran\n",
      "Qazvin\n"
     ]
    }
   ],
   "source": [
    "cities = [\"Ahvaz\", \"Esfahan\", \"Tehran\", \"Qazvin\"]\n",
    "\n",
    "for city in cities:\n",
    "    print(city)"
   ]
  },
  {
   "attachments": {},
   "cell_type": "markdown",
   "metadata": {},
   "source": [
    "## لیست / ترکیب با if"
   ]
  },
  {
   "cell_type": "code",
   "execution_count": 4,
   "metadata": {},
   "outputs": [
    {
     "name": "stdout",
     "output_type": "stream",
     "text": [
      "[2, 4, 6, 8, 10, 12]\n",
      "[1, 3, 5, 7, 9, 11]\n"
     ]
    }
   ],
   "source": [
    "\"\"\"\n",
    "جدا کردن اعداد زوج از فرد\n",
    "\"\"\"\n",
    "\n",
    "numbers = [1,2,3,4,5,6,7,8,9,10,11,12]\n",
    "\n",
    "# دو لیست برای نگه داشتن لیست اعداد\n",
    "even_numbers = []\n",
    "odd_numbers = []\n",
    "\n",
    "for number in numbers:\n",
    "    # اگر باقیمانه تقسیم عدد بر ۲ صفر باشد، آن عدد زوج است\n",
    "    if number % 2 == 0:\n",
    "        even_numbers.append(number)\n",
    "    # در غیر این صورت فرد است\n",
    "    else:\n",
    "        odd_numbers.append(number)\n",
    "\n",
    "# output\n",
    "print(even_numbers)\n",
    "print(odd_numbers)"
   ]
  },
  {
   "attachments": {},
   "cell_type": "markdown",
   "metadata": {},
   "source": [
    "## string / رشته"
   ]
  },
  {
   "cell_type": "code",
   "execution_count": 6,
   "metadata": {},
   "outputs": [
    {
     "name": "stdout",
     "output_type": "stream",
     "text": [
      "E\n",
      "s\n",
      "f\n",
      "a\n",
      "h\n",
      "a\n",
      "n\n"
     ]
    }
   ],
   "source": [
    "\n",
    "word = \"Esfahan\"\n",
    "\n",
    "for letter in word:\n",
    "    print(letter)"
   ]
  },
  {
   "attachments": {},
   "cell_type": "markdown",
   "metadata": {},
   "source": [
    "## مثال ترکیب تاپل و لیست"
   ]
  },
  {
   "cell_type": "code",
   "execution_count": 5,
   "metadata": {},
   "outputs": [
    {
     "name": "stdout",
     "output_type": "stream",
     "text": [
      "Fereshte 19.4\n",
      "Kamyar 19.45\n",
      "Danial 14\n"
     ]
    }
   ],
   "source": [
    "\n",
    "scores = [ (\"Fereshte\", 19.4), (\"Kamyar\", 19.45), (\"Danial\", 14) ]\n",
    "\n",
    "# solution 1\n",
    "# for score in scores:\n",
    "#     print(f\"{score[0]} {score[1]}\")\n",
    "\n",
    "# solution 2 (unpacking tuple / بازکردن تاپل)\n",
    "for (name, score) in scores:\n",
    "    print(f\"{name} {score}\")\n"
   ]
  },
  {
   "attachments": {},
   "cell_type": "markdown",
   "metadata": {},
   "source": [
    "## دیکشنری"
   ]
  },
  {
   "cell_type": "code",
   "execution_count": 1,
   "metadata": {},
   "outputs": [
    {
     "name": "stdout",
     "output_type": "stream",
     "text": [
      "14\n",
      "21.3\n",
      "8.1\n"
     ]
    }
   ],
   "source": [
    "weather = { \"Esfahan\": 14, \"Ahvaz\": 21.3, \"Vancouver\": 8.1 }\n",
    "\n",
    "for city in weather:\n",
    "    print(f\"{city}: {weather[city]}\")\n",
    "\n",
    "# for temperature in weather.values():\n",
    "#     print(temperature)"
   ]
  },
  {
   "attachments": {},
   "cell_type": "markdown",
   "metadata": {},
   "source": [
    "## تاپل"
   ]
  },
  {
   "cell_type": "code",
   "execution_count": 6,
   "metadata": {},
   "outputs": [
    {
     "name": "stdout",
     "output_type": "stream",
     "text": [
      "1\n",
      "Danial\n",
      "Ahvaz\n",
      "1367\n"
     ]
    }
   ],
   "source": [
    "my_tuple = (1, \"Danial\", \"Ahvaz\", 1367)\n",
    "\n",
    "for item in my_tuple:\n",
    "    print(item)"
   ]
  },
  {
   "attachments": {},
   "cell_type": "markdown",
   "metadata": {},
   "source": [
    "## set"
   ]
  },
  {
   "cell_type": "code",
   "execution_count": 7,
   "metadata": {},
   "outputs": [
    {
     "name": "stdout",
     "output_type": "stream",
     "text": [
      "Tabriz\n",
      "Esfahan\n",
      "Qazvin\n",
      "Ahvaz\n",
      "Tehran\n"
     ]
    }
   ],
   "source": [
    "my_set = { \"Esfahan\", \"Ahvaz\", \"Tehran\", \"Ahvaz\", \"Qazvin\", \"Tabriz\", \"Tehran\" }\n",
    "\n",
    "for city in my_set:\n",
    "    print(city)"
   ]
  }
 ],
 "metadata": {
  "kernelspec": {
   "display_name": "Python 3",
   "language": "python",
   "name": "python3"
  },
  "language_info": {
   "codemirror_mode": {
    "name": "ipython",
    "version": 3
   },
   "file_extension": ".py",
   "mimetype": "text/x-python",
   "name": "python",
   "nbconvert_exporter": "python",
   "pygments_lexer": "ipython3",
   "version": "3.10.10"
  },
  "orig_nbformat": 4
 },
 "nbformat": 4,
 "nbformat_minor": 2
}
