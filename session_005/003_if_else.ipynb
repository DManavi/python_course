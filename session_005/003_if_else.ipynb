{
 "cells": [
  {
   "attachments": {},
   "cell_type": "markdown",
   "metadata": {},
   "source": [
    "# if/else\n",
    "\n",
    "برای اجرای شرطی کد می توانید از دستور if و گاهی if/else (بسته به نیاز) استفاده کنید."
   ]
  },
  {
   "attachments": {},
   "cell_type": "markdown",
   "metadata": {},
   "source": [
    "## ساختار کلی"
   ]
  },
  {
   "cell_type": "code",
   "execution_count": 2,
   "metadata": {},
   "outputs": [
    {
     "data": {
      "text/plain": [
       "'\\n\\nاگر بخواهیم چندین حالت را بررسی کنیم می توانیم دستور if را به صورت زیر بنویسیم.\\n\\nif expression:\\n    # command1...\\n    # command2...\\nelif expression2:\\n    # command3...\\n    # command4...\\nelif expression3:\\n    # command5...\\n    # command6...\\nelse:\\n    # command7...\\n    # command8...\\n'"
      ]
     },
     "execution_count": 2,
     "metadata": {},
     "output_type": "execute_result"
    }
   ],
   "source": [
    "\"\"\"\n",
    "expression: عبارتی که در صورت صحیح بودن، کد های مورد نظر اجرا خواهند شد\n",
    "\"\"\"\n",
    "\n",
    "\"\"\"\n",
    "if expression:\n",
    "    # command1...\n",
    "    # command2...\n",
    "\"\"\"\n",
    "\n",
    "\"\"\"\n",
    "اگر بخواهیم دستوراتی در زمان صحیح نبودن عبارت اجرا شوند، آنها را در قسمت else خواهیم نوشت.\n",
    "\"\"\"\n",
    "\n",
    "\"\"\"\n",
    "\n",
    "در این مثال، اگر شرط صحیح باشد، command1 و command2 اجرا خواهند شد\n",
    "در غیر این صورت، command3 و command4\n",
    "\n",
    "if expression:\n",
    "    # command1...\n",
    "    # command2...\n",
    "else:\n",
    "    # command3...\n",
    "    # command4...\n",
    "\"\"\"\n",
    "\n",
    "\"\"\"\n",
    "\n",
    "اگر بخواهیم چندین حالت را بررسی کنیم می توانیم دستور if را به صورت زیر بنویسیم.\n",
    "\n",
    "if expression:\n",
    "    # command1...\n",
    "    # command2...\n",
    "elif expression2:\n",
    "    # command3...\n",
    "    # command4...\n",
    "elif expression3:\n",
    "    # command5...\n",
    "    # command6...\n",
    "else:\n",
    "    # command7...\n",
    "    # command8...\n",
    "\"\"\""
   ]
  },
  {
   "attachments": {},
   "cell_type": "markdown",
   "metadata": {},
   "source": [
    "توجه داشته باشید که بلاک/دستور else همیشه optional است (اجباری نیست)."
   ]
  },
  {
   "attachments": {},
   "cell_type": "markdown",
   "metadata": {},
   "source": [
    "## if"
   ]
  },
  {
   "cell_type": "code",
   "execution_count": 12,
   "metadata": {},
   "outputs": [
    {
     "name": "stdout",
     "output_type": "stream",
     "text": [
      "Welcome to Ahvaz.\n",
      "Visit the White bridge\n"
     ]
    }
   ],
   "source": [
    "\n",
    "city = \"Ahvaz\"\n",
    "\n",
    "print(f\"Welcome to {city}.\")\n",
    "\n",
    "if city == \"Esfahan\":\n",
    "    print(\"Visit Naqshe Jahan Square\")\n",
    "\n",
    "if city == \"Ahvaz\":\n",
    "    print(\"Visit the White bridge\")"
   ]
  },
  {
   "attachments": {},
   "cell_type": "markdown",
   "metadata": {},
   "source": [
    "## if/else"
   ]
  },
  {
   "cell_type": "code",
   "execution_count": 4,
   "metadata": {},
   "outputs": [
    {
     "name": "stdout",
     "output_type": "stream",
     "text": [
      "Welcome to Ahvaz.\n",
      "No special place to go\n"
     ]
    }
   ],
   "source": [
    "city = \"Ahvaz\"\n",
    "\n",
    "print(f\"Welcome to {city}.\")\n",
    "\n",
    "if city == \"Esfahan\":\n",
    "    print(\"Visit Naqshe Jahan Square\")\n",
    "else:\n",
    "    print(\"No special place to go\")"
   ]
  },
  {
   "attachments": {},
   "cell_type": "markdown",
   "metadata": {},
   "source": [
    "## if/elif/else"
   ]
  },
  {
   "cell_type": "code",
   "execution_count": 7,
   "metadata": {},
   "outputs": [
    {
     "name": "stdout",
     "output_type": "stream",
     "text": [
      "Welcome to Qazvin.\n",
      "No special place to go\n"
     ]
    }
   ],
   "source": [
    "city = \"Qazvin\"\n",
    "\n",
    "print(f\"Welcome to {city}.\")\n",
    "\n",
    "if city == \"Esfahan\":\n",
    "    print(\"Visit Naqshe Jahan Square\")\n",
    "elif city == \"Ahvaz\":\n",
    "    print(\"Visit the White Bridge\")\n",
    "else:\n",
    "    print(\"No special place to go\")"
   ]
  }
 ],
 "metadata": {
  "kernelspec": {
   "display_name": "Python 3",
   "language": "python",
   "name": "python3"
  },
  "language_info": {
   "codemirror_mode": {
    "name": "ipython",
    "version": 3
   },
   "file_extension": ".py",
   "mimetype": "text/x-python",
   "name": "python",
   "nbconvert_exporter": "python",
   "pygments_lexer": "ipython3",
   "version": "3.10.10"
  },
  "orig_nbformat": 4
 },
 "nbformat": 4,
 "nbformat_minor": 2
}
