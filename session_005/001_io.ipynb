{
 "cells": [
  {
   "attachments": {},
   "cell_type": "markdown",
   "metadata": {},
   "source": [
    "# IO"
   ]
  },
  {
   "attachments": {},
   "cell_type": "markdown",
   "metadata": {},
   "source": [
    "## نوشتن / write"
   ]
  },
  {
   "cell_type": "code",
   "execution_count": 2,
   "metadata": {},
   "outputs": [],
   "source": [
    "\"\"\"\n",
    "برای نوشتن در فایل یا باز کردن فایل با مود نوشتن باید\n",
    "پارامتر mode برابر w قرار داده شود\n",
    "\n",
    "در مود نوشتن، محتوای قبلی فایل از بین خواهد رفت\n",
    "\"\"\"\n",
    "\n",
    "# solution 1 / روش اول\n",
    "settings_file = open(\"settings.txt\", \"w\")\n",
    "settings_file.write(\"Hello World\")\n",
    "settings_file.close()\n",
    "\n",
    "# solution 2 / روش دوم\n",
    "with open(\"settings.txt\", \"w\") as settings_file:\n",
    "    settings_file.write(\"Hello world\")"
   ]
  },
  {
   "attachments": {},
   "cell_type": "markdown",
   "metadata": {},
   "source": [
    "## اضافه کردن به فایل / Append"
   ]
  },
  {
   "cell_type": "code",
   "execution_count": 9,
   "metadata": {},
   "outputs": [],
   "source": [
    "\"\"\"\n",
    "برای نوشتن/اضافه کردن به انتهای فایل باید پارامتر مود برابر a قرار داده شود.\n",
    "\n",
    "در این حال، محتوای قبلی فایل حفظ خواهد شد\n",
    "\"\"\"\n",
    "\n",
    "# solution 1 / روش اول\n",
    "log_file = open(\"log222.txt\", \"a\")\n",
    "log_file.write(\"Application started.\\n\")\n",
    "log_file.close()\n",
    "\n",
    "# solution 2 / روش دوم\n",
    "with open(\"log.txt\", \"a\") as log_file:\n",
    "    log_file.write(\"Application started.\\n\")"
   ]
  },
  {
   "attachments": {},
   "cell_type": "markdown",
   "metadata": {},
   "source": [
    "## خواندن و نوشتن / Read & write r+"
   ]
  },
  {
   "cell_type": "code",
   "execution_count": 5,
   "metadata": {},
   "outputs": [],
   "source": [
    "\"\"\"\n",
    "برای باز کردن فایل به قصد خواندن و نوشتن همزمان، فلگ مود را r+ تنظیم کنید\n",
    "\n",
    "در این مود، پایتون در ابتدا فایل را باز می کند (باید از قبل موجود باشد).\n",
    "\"\"\"\n",
    "\n",
    "# solution 1 / روش اول\n",
    "log_file = open(\"log.txt\", \"r+\")\n",
    "log_file.write(\"Application started r+ \\n\")\n",
    "log_file.close()\n",
    "\n",
    "# solution 2 / روش دوم\n",
    "with open(\"log.txt\", \"r+\") as log_file:\n",
    "    log_file.write(\"Application started r+ \\n\")"
   ]
  },
  {
   "attachments": {},
   "cell_type": "markdown",
   "metadata": {},
   "source": [
    "## نوشتن و خواندن / Write & read w+"
   ]
  },
  {
   "cell_type": "code",
   "execution_count": 8,
   "metadata": {},
   "outputs": [
    {
     "name": "stdout",
     "output_type": "stream",
     "text": [
      "MY data\n"
     ]
    }
   ],
   "source": [
    "\"\"\"\n",
    "برای باز کردن فایل به قصد نوشتن و خواندن همزمان، فلگ مود را w+ تنظیم کنید\n",
    "\n",
    "در این مود، پایتون در ابتدا فایل را ایجاد می کند (نیازی به وجود داشت فایل از قبل نیست).\n",
    "\n",
    "توجه داشته باشید که محتوای فایل در هر اجرا از بین می رود\n",
    "\"\"\"\n",
    "\n",
    "# solution 1 / روش اول\n",
    "log_file = open(\"log.txt\", \"w+\")\n",
    "log_file.write(\"Application started r+ \\n\")\n",
    "log_file.close()\n",
    "\n",
    "with open(\"log.txt\", \"w+\") as new_file:\n",
    "    # چنانچه محتوای فایل خوانده شود، یک رشته خالی برگردانده خواهد شد، چون محتوای قبلی فایل از بین رفته است\n",
    "    # print(new_file.read())\n",
    "    new_file.write(\"MY data\")\n",
    "\n",
    "    # چنانچه محتوای فایل خوانده شود، یک رشته خالی برگردانده خواهد شد چون اشاره گر در انتهای فایل قرار دارد\n",
    "    # print(new_file.read())\n",
    "\n",
    "    # اشاره گر را به ابتدای فایل منتقل کن\n",
    "    new_file.seek(0)\n",
    "\n",
    "    # محتوای فایل را بخوان (اشاره گر به انتهای فایل منتقل خواهد شد)\n",
    "    file_content = new_file.read()\n",
    "    print(file_content)"
   ]
  }
 ],
 "metadata": {
  "kernelspec": {
   "display_name": "Python 3",
   "language": "python",
   "name": "python3"
  },
  "language_info": {
   "codemirror_mode": {
    "name": "ipython",
    "version": 3
   },
   "file_extension": ".py",
   "mimetype": "text/x-python",
   "name": "python",
   "nbconvert_exporter": "python",
   "pygments_lexer": "ipython3",
   "version": "3.10.10"
  },
  "orig_nbformat": 4
 },
 "nbformat": 4,
 "nbformat_minor": 2
}
