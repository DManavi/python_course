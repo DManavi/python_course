{
 "cells": [
  {
   "attachments": {},
   "cell_type": "markdown",
   "metadata": {},
   "source": [
    "# توابع\n",
    "\n",
    "*args و **kwargs"
   ]
  },
  {
   "attachments": {},
   "cell_type": "markdown",
   "metadata": {},
   "source": [
    "## *args\n",
    "\n",
    "از این کلمه کلیدی رزرو شده برای دریافت پارامترهای مکانی استفاده می شود\n",
    "\n",
    "### پارامترهای مکانی / positional\n",
    "\n",
    "پارامترهایی که به ترتیب مشخصی به تابع ارجاع داده می شوند"
   ]
  },
  {
   "cell_type": "code",
   "execution_count": 17,
   "metadata": {},
   "outputs": [
    {
     "name": "stdout",
     "output_type": "stream",
     "text": [
      "args=(1, 2, 3, 4)\n"
     ]
    }
   ],
   "source": [
    "\n",
    "def my_func(*args):\n",
    "    # به صورت یک تاپل قابل استفاده است\n",
    "    print(f\"args={args}\")\n",
    "\n",
    "\n",
    "my_func(1, 2, 3, 4) # positional arguments"
   ]
  },
  {
   "cell_type": "code",
   "execution_count": 26,
   "metadata": {},
   "outputs": [
    {
     "name": "stdout",
     "output_type": "stream",
     "text": [
      "a=5\n",
      "b=10\n",
      "args=()\n",
      "15\n",
      "--------------------------------------------------------------------------------\n",
      "a=5\n",
      "b=10\n",
      "args=(20, 30)\n",
      "65\n"
     ]
    }
   ],
   "source": [
    "\"\"\"\n",
    "برای فراخوانی تابع زیر،‌ کاربر حتما باید ۲ عدد را وارد کند.\n",
    "تمامی پارامترهای وارد شده (مکانی) در متغیر args در دسترس می باشند.\n",
    "\n",
    "نکته: به صورت پیش فرض، مقدار a و b از تاپل args حذف شده اند\n",
    "\"\"\"\n",
    "\n",
    "def add_numbers(a, b, *args):\n",
    "    print(f\"a={a}\")\n",
    "    print(f\"b={b}\")\n",
    "    print(f\"args={args}\")\n",
    "    \n",
    "    total = a + b\n",
    "\n",
    "    for n in args:\n",
    "        total += n\n",
    "\n",
    "    return total\n",
    "\n",
    "\n",
    "print(add_numbers(5, 10))\n",
    "print(\"-\" * 80)\n",
    "print(add_numbers(5, 10, 20, 30))"
   ]
  },
  {
   "attachments": {},
   "cell_type": "markdown",
   "metadata": {},
   "source": [
    "## **kwargs\n",
    "\n",
    "از این کلمه کلیدی رزرو شده برای دریافت پارامترهای دارای نام استفاده می شود\n",
    "\n",
    "### پارامترهای دارای نام / named parameters\n",
    "\n",
    "پارامترهایی که به برنامه نویس به صورت ضمنی نام و مقدار آنها را مشخص می کند"
   ]
  },
  {
   "cell_type": "code",
   "execution_count": 25,
   "metadata": {},
   "outputs": [
    {
     "name": "stdout",
     "output_type": "stream",
     "text": [
      "Hello Danial\n",
      "Hello Kamyar\n",
      "--------------------------------------------------------------------------------\n",
      "Hello Danial\n",
      "Hello Kamyar\n"
     ]
    }
   ],
   "source": [
    "\n",
    "def say_hello(name):\n",
    "    print(f\"Hello {name}\")\n",
    "\n",
    "# ارسال پارامترها به صورت مکانی / به ترتیب\n",
    "\n",
    "say_hello(\"Danial\") # positional\n",
    "say_hello(\"Kamyar\") # positional\n",
    "\n",
    "print(\"-\" * 80)\n",
    "\n",
    "# ارسال پارامترها به صورت نام دار\n",
    "say_hello(name=\"Danial\") # named parameter\n",
    "say_hello(name=\"Kamyar\") # named parameter"
   ]
  },
  {
   "cell_type": "code",
   "execution_count": 12,
   "metadata": {},
   "outputs": [
    {
     "name": "stdout",
     "output_type": "stream",
     "text": [
      "{'name': 'Danial', 'age': 35}\n"
     ]
    }
   ],
   "source": [
    "\"\"\"\n",
    "با استفاده از kwargs،‌ تمامی متغیرهای نام دار به صورت یک دیکشنری در دسترس خواهند بود\n",
    "\"\"\"\n",
    "\n",
    "def my_func(**kwargs):\n",
    "    print(f\"kwargs={kwargs}\")\n",
    "\n",
    "\n",
    "my_func(name=\"Danial\", age=35)"
   ]
  },
  {
   "cell_type": "code",
   "execution_count": 30,
   "metadata": {},
   "outputs": [
    {
     "name": "stdout",
     "output_type": "stream",
     "text": [
      "name=Esfahan\n",
      "temperature=14\n",
      "--------------------------------------------------------------------------------\n",
      "name=Esfahan\n",
      "temperature=14\n"
     ]
    }
   ],
   "source": [
    "\"\"\"\n",
    "ارجاع پارامتر به تابع به ۲ صورت\n",
    "- بر اساس موقعیت\n",
    "- بر اساس نام\n",
    "\"\"\"\n",
    "\n",
    "def add_city(name, temperature):\n",
    "    print(f\"name={name}\")\n",
    "    print(f\"temperature={temperature}\")\n",
    "\n",
    "\n",
    "add_city(\"Esfahan\", 14) # positional arguments\n",
    "\n",
    "print(\"-\" * 80)\n",
    "\n",
    "\"\"\"\n",
    "ترتیب در پارامترهای نام دار اهمیت ندارد\n",
    "\"\"\"\n",
    "add_city(temperature=14, name=\"Esfahan\") # named arguments"
   ]
  },
  {
   "cell_type": "code",
   "execution_count": 31,
   "metadata": {},
   "outputs": [
    {
     "name": "stdout",
     "output_type": "stream",
     "text": [
      "name=Esfahan\n",
      "temperature=14\n",
      "kwargs={'is_night': False}\n",
      "--------------------------------------------------------------------------------\n",
      "name=Esfahan\n",
      "temperature=14\n",
      "kwargs={'is_night': False}\n"
     ]
    }
   ],
   "source": [
    "\"\"\"\n",
    "با استفاده از kwargs می توان تعداد پارامترهای مختلفی را به تابع ارجاع داد\n",
    "\"\"\"\n",
    "\n",
    "def add_city(name, temperature, **kwargs):\n",
    "    print(f\"name={name}\")\n",
    "    print(f\"temperature={temperature}\")\n",
    "    print(f\"kwargs={kwargs}\")\n",
    "\n",
    "\n",
    "add_city(\"Esfahan\", 14, is_night = False)\n",
    "print(\"-\" * 80)\n",
    "add_city(temperature=14, name=\"Esfahan\", is_night = False)"
   ]
  },
  {
   "cell_type": "code",
   "execution_count": 34,
   "metadata": {},
   "outputs": [
    {
     "name": "stdout",
     "output_type": "stream",
     "text": [
      "{'name': 'Esfahan', 'temperature': 7.9, 'is_night': True, 'population': 3.8}\n",
      "--------------------------------------------------------------------------------\n",
      "{'name': 'Ahvaz', 'temperature': 18}\n",
      "--------------------------------------------------------------------------------\n",
      "{'name': 'Tehran'}\n",
      "--------------------------------------------------------------------------------\n",
      "city: Tehran\n",
      "--------------------------------------------------------------------------------\n"
     ]
    }
   ],
   "source": [
    "\"\"\"\n",
    "تابع زیر تمامی پارامترهای نام دار را از کاربر دریافت می کند\n",
    "\"\"\"\n",
    "\n",
    "def add_city(**kwargs):\n",
    "    print(kwargs)\n",
    "\n",
    "add_city(name = \"Esfahan\", temperature=7.90, is_night = True, population = 3.8)\n",
    "print(\"-\" * 80)\n",
    "add_city(name = \"Ahvaz\", temperature=18)\n",
    "print(\"-\" * 80)\n",
    "add_city(name = \"Tehran\")\n",
    "print(\"-\" * 80)\n",
    "\n",
    "\n",
    "def add_city_by_name(name):\n",
    "    print(f\"city: {name}\")\n",
    "\n",
    "add_city_by_name(\"Tehran\")\n",
    "print(\"-\" * 80)"
   ]
  },
  {
   "attachments": {},
   "cell_type": "markdown",
   "metadata": {},
   "source": [
    "### ترکیب args و kwargs"
   ]
  },
  {
   "cell_type": "code",
   "execution_count": 18,
   "metadata": {},
   "outputs": [
    {
     "name": "stdout",
     "output_type": "stream",
     "text": [
      "args=(1, 2, 3, 4)\n",
      "kwargs={'city': 'Vancouver'}\n"
     ]
    }
   ],
   "source": [
    "\n",
    "def my_func(*args, **kwargs):\n",
    "    print(f\"args={args}\")\n",
    "    print(f\"kwargs={kwargs}\")\n",
    "\n",
    "my_func(1, 2, 3, 4, city = \"Vancouver\")"
   ]
  },
  {
   "attachments": {},
   "cell_type": "markdown",
   "metadata": {},
   "source": [
    "## استفاده از kwargs"
   ]
  },
  {
   "cell_type": "code",
   "execution_count": 15,
   "metadata": {},
   "outputs": [
    {
     "name": "stdout",
     "output_type": "stream",
     "text": [
      "{}\n",
      "{'populations': 3.8}\n",
      "{'populations': 12.4, 'is_capital': 'yes'}\n"
     ]
    }
   ],
   "source": [
    "\"\"\"\n",
    "تابع زیر تمامی پارامترهای نام دار را از کاربر دریافت می کند\n",
    "۲ پارامتر نام شهر و دمای هوا اجباری می باشند و همیشه باید وارد شوند.\n",
    "\n",
    "این در حالی است که بقیه پارامترها به صورت دلخواه می باشند / الزامی نیستند.\n",
    "اما در صورت وجود، داده های مربوط به آنها در فایل ذخیره می شود\n",
    "\"\"\"\n",
    "\n",
    "\n",
    "def write_city_data(name, temperature, **kwargs):\n",
    "    \"\"\"\n",
    "    Writes city data to different files\n",
    "    \"\"\"\n",
    "    with open(\"city_names.txt\", \"a\") as f:\n",
    "        f.write(f\"\\n{name}\")\n",
    "\n",
    "    with open(\"city_temps.txt\", \"a\") as f:\n",
    "        f.write(f\"\\n{temperature}\")\n",
    "\n",
    "    for param in kwargs:\n",
    "        \n",
    "        file_name = f\"city_{param}.txt\"\n",
    "        \n",
    "        with open(file_name, \"a\") as f:\n",
    "            param_value = kwargs[param]\n",
    "            f.write(f\"\\n{param_value}\")\n",
    "\n",
    "\n",
    "write_city_data(\"Ahvaz\", 14)\n",
    "write_city_data(\"Esfahan\", 11, populations=3.8)\n",
    "write_city_data(\"Tehran\", 9, populations=12.4, is_capital = \"yes\")"
   ]
  },
  {
   "attachments": {},
   "cell_type": "markdown",
   "metadata": {},
   "source": [
    "## کوییز\n",
    "\n",
    "تابعی بنویسید که مقدار key/value را از کاربر دریافت کند و \n",
    "\n",
    "یک فایل با نام \n",
    "\n",
    "param_{name}.txt بسازد و \n",
    "\n",
    "مقدار value را در آن قرار دهد\n",
    "\n"
   ]
  },
  {
   "cell_type": "code",
   "execution_count": 35,
   "metadata": {},
   "outputs": [],
   "source": [
    "def write_to_disk(key, val):\n",
    "\n",
    "    file_name = f\"param_{key}.txt\"\n",
    "    with open(file_name, \"a\") as f:\n",
    "        f.write(f\"\\n{key}={val}\")\n",
    "\n",
    "\n",
    "key = input(\"Enter key: \")\n",
    "val = input(\"Enter val: \")\n",
    "\n",
    "write_to_disk(key, val)"
   ]
  }
 ],
 "metadata": {
  "kernelspec": {
   "display_name": "Python 3",
   "language": "python",
   "name": "python3"
  },
  "language_info": {
   "codemirror_mode": {
    "name": "ipython",
    "version": 3
   },
   "file_extension": ".py",
   "mimetype": "text/x-python",
   "name": "python",
   "nbconvert_exporter": "python",
   "pygments_lexer": "ipython3",
   "version": "3.10.10"
  },
  "orig_nbformat": 4
 },
 "nbformat": 4,
 "nbformat_minor": 2
}
