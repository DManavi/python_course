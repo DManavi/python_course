{
 "cells": [
  {
   "attachments": {},
   "cell_type": "markdown",
   "metadata": {},
   "source": [
    "# متغیرها"
   ]
  },
  {
   "attachments": {},
   "cell_type": "markdown",
   "metadata": {},
   "source": [
    "## نام گذاری"
   ]
  },
  {
   "cell_type": "code",
   "execution_count": 3,
   "metadata": {},
   "outputs": [],
   "source": [
    "personname = \"Danial\"\n",
    "person_name = \"Danial\"\n",
    "\n",
    "\n",
    "# person name = \"Danial\"\n",
    "# personName\n",
    "# PersonName\n",
    "\n",
    "# این کارکترها را نمی توان در نام متغیر استفاده کرد\n",
    "# - / # @ % -> special character + space (blank)"
   ]
  },
  {
   "cell_type": "code",
   "execution_count": 4,
   "metadata": {},
   "outputs": [],
   "source": [
    "# assignment\n",
    "person_age = 10 # type = int\n",
    "\n",
    "# re-assignment\n",
    "person_age = 10.5 # type = float\n",
    "\n",
    "# reset variable\n",
    "person_age = None"
   ]
  },
  {
   "attachments": {},
   "cell_type": "markdown",
   "metadata": {},
   "source": [
    "## مقدار دهی مجدد"
   ]
  },
  {
   "cell_type": "code",
   "execution_count": 7,
   "metadata": {},
   "outputs": [],
   "source": [
    "a = 100\n",
    "\n",
    "a = \"Danial\"\n",
    "\n",
    "a = [\"Danial\", \"Taghi\"]\n",
    "\n",
    "a = [ [1, 2, 3], \"Danial\" ]\n",
    "\n",
    "a = (10, \"Danial\")\n",
    "\n",
    "a = { \"name\": \"Danial\", \"age\": 35 }"
   ]
  },
  {
   "attachments": {},
   "cell_type": "markdown",
   "metadata": {},
   "source": [
    "## حذف متغیر از حافظه"
   ]
  },
  {
   "cell_type": "code",
   "execution_count": 8,
   "metadata": {},
   "outputs": [],
   "source": [
    "del a"
   ]
  }
 ],
 "metadata": {
  "kernelspec": {
   "display_name": "Python 3",
   "language": "python",
   "name": "python3"
  },
  "language_info": {
   "codemirror_mode": {
    "name": "ipython",
    "version": 3
   },
   "file_extension": ".py",
   "mimetype": "text/x-python",
   "name": "python",
   "nbconvert_exporter": "python",
   "pygments_lexer": "ipython3",
   "version": "3.10.10"
  },
  "orig_nbformat": 4
 },
 "nbformat": 4,
 "nbformat_minor": 2
}
