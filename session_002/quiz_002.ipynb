{
 "cells": [
  {
   "attachments": {},
   "cell_type": "markdown",
   "metadata": {},
   "source": [
    "## متغیر با انواع داده های خواسته شده ایجاد و در خروجی چاپ کنید\n",
    "\n",
    "> نام و مقدار متغیر ها تکراری نباشند"
   ]
  },
  {
   "cell_type": "code",
   "execution_count": 1,
   "metadata": {},
   "outputs": [],
   "source": [
    "# int\n",
    "\n",
    "# float\n",
    "\n",
    "# str\n",
    "\n",
    "# list\n",
    "\n",
    "# set\n",
    "\n",
    "# dictionary\n",
    "\n",
    "# tuple"
   ]
  },
  {
   "attachments": {},
   "cell_type": "markdown",
   "metadata": {},
   "source": [
    "## متغیر every_thing را به صورت زیر ایجاد کنید\n",
    "\n",
    "> فقط از یک متغیر استفاده کنید (re-assignment)\n",
    "> مقادیر را جدید را جایگزین مقادیر قبلی کنید\n",
    "\n",
    "- مقدار عددی صحیح ۱۰۰\n",
    "- مقدار قبلی را در ۲ ضرب کنید\n",
    "- حاصل را بر ۳ تقیسم کنید\n",
    "- در خروجی با قالب زیر نمایش دهید\n",
    "\n",
    "output: {every_thing}"
   ]
  },
  {
   "cell_type": "code",
   "execution_count": null,
   "metadata": {},
   "outputs": [],
   "source": []
  },
  {
   "attachments": {},
   "cell_type": "markdown",
   "metadata": {},
   "source": [
    "## حاصل عدد ۲ به توان ۱۶ را به ۲ روش محاسبه کنید\n",
    "\n",
    "> با اپراتور و تابع"
   ]
  },
  {
   "cell_type": "code",
   "execution_count": null,
   "metadata": {},
   "outputs": [],
   "source": []
  },
  {
   "attachments": {},
   "cell_type": "markdown",
   "metadata": {},
   "source": [
    "## ترتیب انجام محاسبات را به صورت خط به خط بنوسید\n",
    "\n",
    "( ( 4 ** 2 * 2) + 5 / 5 * 0.01 ) + ( 2 ** (2 * (2 ** 2) ** 2 ) * 2 )"
   ]
  },
  {
   "cell_type": "markdown",
   "metadata": {},
   "source": []
  },
  {
   "attachments": {},
   "cell_type": "markdown",
   "metadata": {},
   "source": [
    "## نام و نام خانوادگی فرد را از هم جدا کرده و در خروجی در ۲ خط مجزا نشان دهید"
   ]
  },
  {
   "cell_type": "code",
   "execution_count": null,
   "metadata": {},
   "outputs": [],
   "source": [
    "full_name = \"John Smith\""
   ]
  },
  {
   "attachments": {},
   "cell_type": "markdown",
   "metadata": {},
   "source": [
    "## خلاصه اسم فرد را در خروجی نشان دهید\n",
    "\n",
    "> خلاصه اسم حرف اول نام + حرف اول نام خانوادگی"
   ]
  },
  {
   "cell_type": "code",
   "execution_count": null,
   "metadata": {},
   "outputs": [],
   "source": [
    "full_name = \"Kester Cortney Brent\""
   ]
  },
  {
   "attachments": {},
   "cell_type": "markdown",
   "metadata": {},
   "source": [
    "## حروف ۱۵ الی ۲۵ الفبای انگلیسی را جدا کنید"
   ]
  },
  {
   "cell_type": "code",
   "execution_count": null,
   "metadata": {},
   "outputs": [],
   "source": [
    "alphabet = \"abcdefghijklmnopqrstuvwxyz\""
   ]
  },
  {
   "attachments": {},
   "cell_type": "markdown",
   "metadata": {},
   "source": [
    "## تمامی حروف از a تا z را به صورت یکی در میان چاپ کنید\n",
    "\n",
    "> از متغیر alphabet استفاده کنید"
   ]
  },
  {
   "cell_type": "code",
   "execution_count": null,
   "metadata": {},
   "outputs": [],
   "source": []
  },
  {
   "attachments": {},
   "cell_type": "markdown",
   "metadata": {},
   "source": [
    "## به چهار روش از رشته alhpabet کپی گرفته و در خروجی نمایش دهید"
   ]
  },
  {
   "cell_type": "code",
   "execution_count": null,
   "metadata": {},
   "outputs": [],
   "source": []
  },
  {
   "attachments": {},
   "cell_type": "markdown",
   "metadata": {},
   "source": [
    "## الفبا را با حروف بزرگ چاپ کنید"
   ]
  },
  {
   "cell_type": "code",
   "execution_count": null,
   "metadata": {},
   "outputs": [],
   "source": []
  },
  {
   "attachments": {},
   "cell_type": "markdown",
   "metadata": {},
   "source": [
    "## حروف الفبا را ۳ بار تکرار کرده و در خروجی نمایش دهید\n",
    "\n",
    "> در قالب یک رشته"
   ]
  },
  {
   "cell_type": "code",
   "execution_count": null,
   "metadata": {},
   "outputs": [],
   "source": []
  },
  {
   "attachments": {},
   "cell_type": "markdown",
   "metadata": {},
   "source": [
    "## در یک متغیر جدید، اسم و فامیل فرد را با یکدیگر جا به جا کنید\n",
    "\n",
    "> Danial Manavi >> Manavi Danial"
   ]
  },
  {
   "cell_type": "code",
   "execution_count": null,
   "metadata": {},
   "outputs": [],
   "source": [
    "invalid_person_name = \"Manavi Danial\""
   ]
  }
 ],
 "metadata": {
  "kernelspec": {
   "display_name": "Python 3",
   "language": "python",
   "name": "python3"
  },
  "language_info": {
   "codemirror_mode": {
    "name": "ipython",
    "version": 3
   },
   "file_extension": ".py",
   "mimetype": "text/x-python",
   "name": "python",
   "nbconvert_exporter": "python",
   "pygments_lexer": "ipython3",
   "version": "3.10.10"
  },
  "orig_nbformat": 4
 },
 "nbformat": 4,
 "nbformat_minor": 2
}
