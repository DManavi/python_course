{
 "cells": [
  {
   "attachments": {},
   "cell_type": "markdown",
   "metadata": {},
   "source": [
    "# رشته ها"
   ]
  },
  {
   "cell_type": "code",
   "execution_count": 10,
   "metadata": {},
   "outputs": [],
   "source": [
    "name = \"Danial\"\n",
    "city = \"Ahvaz\""
   ]
  },
  {
   "attachments": {},
   "cell_type": "markdown",
   "metadata": {},
   "source": [
    "## طول رشته"
   ]
  },
  {
   "cell_type": "code",
   "execution_count": 3,
   "metadata": {},
   "outputs": [
    {
     "data": {
      "text/plain": [
       "5"
      ]
     },
     "execution_count": 3,
     "metadata": {},
     "output_type": "execute_result"
    }
   ],
   "source": [
    "len(name)\n",
    "len(city)"
   ]
  },
  {
   "attachments": {},
   "cell_type": "markdown",
   "metadata": {},
   "source": [
    "## ایندکس / اندیس"
   ]
  },
  {
   "attachments": {},
   "cell_type": "markdown",
   "metadata": {},
   "source": [
    "### پیدا کردن آخرین کارکتر در رشته"
   ]
  },
  {
   "cell_type": "code",
   "execution_count": 7,
   "metadata": {},
   "outputs": [
    {
     "data": {
      "text/plain": [
       "'l'"
      ]
     },
     "execution_count": 7,
     "metadata": {},
     "output_type": "execute_result"
    }
   ],
   "source": [
    "# find last character in a string\n",
    "name[-1]\n",
    "name[5]\n",
    "name[len(name) - 1]"
   ]
  },
  {
   "cell_type": "code",
   "execution_count": 6,
   "metadata": {},
   "outputs": [
    {
     "data": {
      "text/plain": [
       "'cdefghijklmn'"
      ]
     },
     "execution_count": 6,
     "metadata": {},
     "output_type": "execute_result"
    }
   ],
   "source": [
    "alphabet = \"abcdefghijklmn\"\n",
    "\n",
    "# [start_from:to:step]\n",
    "\n",
    "# alphabet[:] # -> returns all characters\n",
    "\n",
    "alphabet[2:] # -> starts from C to end"
   ]
  },
  {
   "cell_type": "code",
   "execution_count": 15,
   "metadata": {},
   "outputs": [
    {
     "data": {
      "text/plain": [
       "'cdefghijklmn'"
      ]
     },
     "execution_count": 15,
     "metadata": {},
     "output_type": "execute_result"
    }
   ],
   "source": [
    "alphabet[2:10] # index < to"
   ]
  },
  {
   "cell_type": "code",
   "execution_count": 18,
   "metadata": {},
   "outputs": [
    {
     "data": {
      "text/plain": [
       "'abc'"
      ]
     },
     "execution_count": 18,
     "metadata": {},
     "output_type": "execute_result"
    }
   ],
   "source": [
    "alphabet[0:3]\n",
    "alphabet[:3]"
   ]
  },
  {
   "cell_type": "code",
   "execution_count": 36,
   "metadata": {},
   "outputs": [
    {
     "data": {
      "text/plain": [
       "'nmlkj'"
      ]
     },
     "execution_count": 36,
     "metadata": {},
     "output_type": "execute_result"
    }
   ],
   "source": [
    "# copy string\n",
    "alphabet[::]\n",
    "alphabet[:]\n",
    "alphabet[::1]\n",
    "\n",
    "# \n",
    "alphabet[::2]\n",
    "alphabet[1::2]\n",
    "\n",
    "# reverse a string\n",
    "alphabet[::-1]\n",
    "\n",
    "# \n",
    "alphabet[:-6:-1]"
   ]
  },
  {
   "attachments": {},
   "cell_type": "markdown",
   "metadata": {},
   "source": [
    "## توابع / خصوصیت ها"
   ]
  },
  {
   "cell_type": "code",
   "execution_count": 5,
   "metadata": {},
   "outputs": [
    {
     "ename": "NameError",
     "evalue": "name 'alphabet' is not defined",
     "output_type": "error",
     "traceback": [
      "\u001b[1;31m---------------------------------------------------------------------------\u001b[0m",
      "\u001b[1;31mNameError\u001b[0m                                 Traceback (most recent call last)",
      "Cell \u001b[1;32mIn[5], line 2\u001b[0m\n\u001b[0;32m      1\u001b[0m \u001b[39m# assignemnt is not allowed in strings\u001b[39;00m\n\u001b[1;32m----> 2\u001b[0m alphabet[\u001b[39m0\u001b[39m]\n",
      "\u001b[1;31mNameError\u001b[0m: name 'alphabet' is not defined"
     ]
    }
   ],
   "source": [
    "# assignemnt is not allowed in strings\n",
    "alphabet[0]"
   ]
  },
  {
   "attachments": {},
   "cell_type": "markdown",
   "metadata": {},
   "source": [
    "### الصاق رشته ها"
   ]
  },
  {
   "cell_type": "code",
   "execution_count": 3,
   "metadata": {},
   "outputs": [
    {
     "name": "stdout",
     "output_type": "stream",
     "text": [
      "Danial Manavi\n",
      "DM\n",
      "Hello Danial!\n"
     ]
    }
   ],
   "source": [
    "# string concatenation\n",
    "\n",
    "first_name = \"Danial\"\n",
    "last_name = \"Manavi\"\n",
    "\n",
    "full_name = first_name + ' ' + last_name\n",
    "print(full_name)\n",
    "\n",
    "# first letter of first name and last name\n",
    "initial = first_name[0] + last_name[0]\n",
    "print(initial)\n",
    "\n",
    "print(\"Hello \" + first_name + \"!\")"
   ]
  },
  {
   "attachments": {},
   "cell_type": "markdown",
   "metadata": {},
   "source": [
    "## تکرار رشته"
   ]
  },
  {
   "cell_type": "code",
   "execution_count": 2,
   "metadata": {},
   "outputs": [
    {
     "data": {
      "text/plain": [
       "'ASDASDASDASDASDASDASDASDASDASDASDASDASDASDASD'"
      ]
     },
     "execution_count": 2,
     "metadata": {},
     "output_type": "execute_result"
    }
   ],
   "source": [
    "print(\"z\" * 10)\n",
    "print(\"ASD\" * 15)\n"
   ]
  },
  {
   "attachments": {},
   "cell_type": "markdown",
   "metadata": {},
   "source": [
    "## توابع"
   ]
  },
  {
   "cell_type": "code",
   "execution_count": 11,
   "metadata": {},
   "outputs": [
    {
     "name": "stdout",
     "output_type": "stream",
     "text": [
      "ABCDEFGHIJKLMN\n",
      "ahvaz\n"
     ]
    }
   ],
   "source": [
    "# رشته ها قابل تغییر نیستند\n",
    "# alphabet[0] = 'B'; # خطا\n",
    "\n",
    "# خروجی تغییرات روی رشته ها یک رشته جدید است\n",
    "\n",
    "# upper case\n",
    "# تبدیل تمام حروف به حروف بزرگ\n",
    "\n",
    "alphabet_cap = alphabet.upper()\n",
    "print(alphabet_cap)\n",
    "\n",
    "# lower case\n",
    "# تبدیل تمام حروف به حروف کوچک\n",
    "print(city.lower())"
   ]
  },
  {
   "cell_type": "code",
   "execution_count": 57,
   "metadata": {},
   "outputs": [
    {
     "data": {
      "text/plain": [
       "['This', 'is', 'sample!text']"
      ]
     },
     "execution_count": 57,
     "metadata": {},
     "output_type": "execute_result"
    }
   ],
   "source": [
    "# شکستن / split\n",
    "\n",
    "full_name.split()\n",
    "\n",
    "\"My name is Danial\".split()\n",
    "\"This!is!sample!text\".split(\"!\", 2)"
   ]
  }
 ],
 "metadata": {
  "kernelspec": {
   "display_name": "Python 3",
   "language": "python",
   "name": "python3"
  },
  "language_info": {
   "codemirror_mode": {
    "name": "ipython",
    "version": 3
   },
   "file_extension": ".py",
   "mimetype": "text/x-python",
   "name": "python",
   "nbconvert_exporter": "python",
   "pygments_lexer": "ipython3",
   "version": "3.10.10"
  },
  "orig_nbformat": 4
 },
 "nbformat": 4,
 "nbformat_minor": 2
}
