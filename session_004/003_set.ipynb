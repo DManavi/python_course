{
 "cells": [
  {
   "attachments": {},
   "cell_type": "markdown",
   "metadata": {},
   "source": [
    "# set / ست"
   ]
  },
  {
   "attachments": {},
   "cell_type": "markdown",
   "metadata": {},
   "source": [
    "## ایجاد"
   ]
  },
  {
   "cell_type": "code",
   "execution_count": 4,
   "metadata": {},
   "outputs": [
    {
     "name": "stdout",
     "output_type": "stream",
     "text": [
      "{1, 3, 5, 7, 9, 10}\n",
      "{5, 6}\n"
     ]
    }
   ],
   "source": [
    "# روش اول / solution #1\n",
    "my_set = { 1, 5, 7, 3, 5, 9, 1, 10 }\n",
    "\n",
    "print(my_set)\n",
    "\n",
    "# روش دوم / solution #2\n",
    "# با استفاده از کلاس set / using set class\n",
    "\n",
    "set_2 = set()\n",
    "\n",
    "set_2.add(5)\n",
    "set_2.add(6)\n",
    "set_2.add(5)\n",
    "set_2.add(5)\n",
    "set_2.add(5)\n",
    "\n",
    "print(set_2)"
   ]
  },
  {
   "attachments": {},
   "cell_type": "markdown",
   "metadata": {},
   "source": [
    "## تبدیل لیست به ست"
   ]
  },
  {
   "cell_type": "code",
   "execution_count": 11,
   "metadata": {},
   "outputs": [
    {
     "data": {
      "text/plain": [
       "{5, 6, 7, 9, 10, 11}"
      ]
     },
     "execution_count": 11,
     "metadata": {},
     "output_type": "execute_result"
    }
   ],
   "source": [
    "\"\"\"\n",
    "پس از تغییر به set\n",
    "آیتم های تکراری به صورت خودکار از ست حذف خواهند شد.\n",
    "\n",
    "نکته: لیست تغییری نمی کند\n",
    "\"\"\"\n",
    "\n",
    "my_list = [10, 5, 10, 6, 10, 5, 10, 7, 10, 9, 10, 11]\n",
    "\n",
    "set(my_list)"
   ]
  },
  {
   "attachments": {},
   "cell_type": "markdown",
   "metadata": {},
   "source": [
    "## به دست آوردن طول set"
   ]
  },
  {
   "cell_type": "code",
   "execution_count": 10,
   "metadata": {},
   "outputs": [
    {
     "data": {
      "text/plain": [
       "set"
      ]
     },
     "execution_count": 10,
     "metadata": {},
     "output_type": "execute_result"
    }
   ],
   "source": [
    "my_set = {10, 5, 10, 6, 10, 5, 10, 7, 10, 9, 10, 11}\n",
    "\n",
    "len(my_set)"
   ]
  },
  {
   "attachments": {},
   "cell_type": "markdown",
   "metadata": {},
   "source": [
    "## متدها / توابع / methods"
   ]
  },
  {
   "cell_type": "code",
   "execution_count": null,
   "metadata": {},
   "outputs": [],
   "source": [
    "my_set = { 1, 2, 3, 4, 5, 6 }\n",
    "\n",
    "# اضافه کردن یک المنت به ست\n",
    "my_set.add(9)\n",
    "\n",
    "# حذف یک المنت موجود از لیست\n",
    "# مقدار مورد نظر برای حذف (ایندکس نیست)\n",
    "# در صورت موجود نبودن، خطا داده خواهد شد\n",
    "my_set.remove(3)\n",
    "\n",
    "# خالی کردن ست\n",
    "my_set.clear()"
   ]
  }
 ],
 "metadata": {
  "kernelspec": {
   "display_name": "Python 3",
   "language": "python",
   "name": "python3"
  },
  "language_info": {
   "codemirror_mode": {
    "name": "ipython",
    "version": 3
   },
   "file_extension": ".py",
   "mimetype": "text/x-python",
   "name": "python",
   "nbconvert_exporter": "python",
   "pygments_lexer": "ipython3",
   "version": "3.10.10"
  },
  "orig_nbformat": 4
 },
 "nbformat": 4,
 "nbformat_minor": 2
}
