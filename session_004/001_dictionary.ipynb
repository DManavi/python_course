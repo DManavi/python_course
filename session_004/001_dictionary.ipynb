{
 "cells": [
  {
   "attachments": {},
   "cell_type": "markdown",
   "metadata": {},
   "source": [
    "# دیکشنری"
   ]
  },
  {
   "attachments": {},
   "cell_type": "markdown",
   "metadata": {},
   "source": [
    "## نحوه ایجاد"
   ]
  },
  {
   "cell_type": "code",
   "execution_count": 1,
   "metadata": {},
   "outputs": [],
   "source": [
    "my_dict = {\n",
    "    \"key1\": \"value1\",\n",
    "    \"key2\": \"value2\",\n",
    "}\n",
    "\n",
    "scores = {\n",
    "    \"meysam\": 17,\n",
    "    \"kamyar\": 19,\n",
    "    \"danial\": 10,\n",
    "    \"abbas\": {\n",
    "        \"math\": 19,\n",
    "        \"python\": 18.7\n",
    "    },\n",
    "    \"fereshte\": [\n",
    "        1, 2, 4, 9\n",
    "    ]\n",
    "}"
   ]
  },
  {
   "attachments": {},
   "cell_type": "markdown",
   "metadata": {},
   "source": [
    "## عملیات / operations"
   ]
  },
  {
   "cell_type": "code",
   "execution_count": 16,
   "metadata": {},
   "outputs": [
    {
     "name": "stdout",
     "output_type": "stream",
     "text": [
      "{'meysam': 17.83333333, 'kamyar': 19, 'danial': 10, 'abbas': {'math': 19.0234, 'python': 19.4329}, 'fereshte': [1, 2, 4, 9], 'new_member': 19.0}\n"
     ]
    }
   ],
   "source": [
    "scores = {\n",
    "    \"meysam\": 17,\n",
    "    \"kamyar\": 19,\n",
    "    \"danial\": 10,\n",
    "    \"abbas\": {\n",
    "        \"math\": 19,\n",
    "        \"python\": 18.7\n",
    "    },\n",
    "    \"fereshte\": [\n",
    "        1, 2, 4, 9\n",
    "    ]\n",
    "}\n",
    "\n",
    "# دسترسی / access/read\n",
    "\n",
    "scores[\"meysam\"]\n",
    "scores[\"abbas\"]\n",
    "scores[\"fereshte\"]\n",
    "\n",
    "# تغییر / نوشتن / write\n",
    "scores[\"meysam\"] = 17.83333333\n",
    "scores[\"new_member\"] = 19.0000\n",
    "\n",
    "\n",
    "# دسترسی عمیق / nested access\n",
    "# راه حل اول / solution #1\n",
    "scores[\"abbas\"][\"python\"]\n",
    "\n",
    "# راه حل دوم / solution #2\n",
    "abbas_scores = scores[\"abbas\"]\n",
    "abbas_scores[\"python\"]\n",
    "abbas_scores[\"math\"]\n",
    "\n",
    "# تغییر / نوشتن عمیق / nested write\n",
    "# راه حل اول / solution #1\n",
    "scores[\"abbas\"][\"python\"] = 19.4329\n",
    "\n",
    "# راه حل دوم / solutin #2\n",
    "abbas_scores[\"math\"] = 19.0234\n",
    "\n",
    "print(scores)"
   ]
  },
  {
   "attachments": {},
   "cell_type": "markdown",
   "metadata": {},
   "source": [
    "## توابع / متدها / methods"
   ]
  },
  {
   "attachments": {},
   "cell_type": "markdown",
   "metadata": {},
   "source": [
    "## کلیدها / keys"
   ]
  },
  {
   "cell_type": "code",
   "execution_count": 12,
   "metadata": {},
   "outputs": [
    {
     "data": {
      "text/plain": [
       "dict_keys(['Esfahan', 'Ahvaz', 'Kurdestan'])"
      ]
     },
     "execution_count": 12,
     "metadata": {},
     "output_type": "execute_result"
    }
   ],
   "source": [
    "# get the list of keys\n",
    "weather = {\n",
    "    \"Esfahan\": 14.3,\n",
    "    \"Ahvaz\": 22.1,\n",
    "    \"Kurdestan\": 11.9\n",
    "}\n",
    "\n",
    "weather.keys()"
   ]
  },
  {
   "attachments": {},
   "cell_type": "markdown",
   "metadata": {},
   "source": [
    "## مقادیر / values"
   ]
  },
  {
   "cell_type": "code",
   "execution_count": 13,
   "metadata": {},
   "outputs": [
    {
     "data": {
      "text/plain": [
       "dict_values([14.3, 22.1, 11.9])"
      ]
     },
     "execution_count": 13,
     "metadata": {},
     "output_type": "execute_result"
    }
   ],
   "source": [
    "# get the list of values\n",
    "weather = {\n",
    "    \"Esfahan\": 14.3,\n",
    "    \"Ahvaz\": 22.1,\n",
    "    \"Kurdestan\": 11.9\n",
    "}\n",
    "\n",
    "weather.values()"
   ]
  },
  {
   "attachments": {},
   "cell_type": "markdown",
   "metadata": {},
   "source": [
    "## پاک سازی / clear"
   ]
  },
  {
   "cell_type": "code",
   "execution_count": 14,
   "metadata": {},
   "outputs": [
    {
     "data": {
      "text/plain": [
       "{}"
      ]
     },
     "execution_count": 14,
     "metadata": {},
     "output_type": "execute_result"
    }
   ],
   "source": [
    "# remove all the key/value pairs\n",
    "weather = {\n",
    "    \"Esfahan\": 14.3,\n",
    "    \"Ahvaz\": 22.1,\n",
    "    \"Kurdestan\": 11.9\n",
    "}\n",
    "\n",
    "weather.clear()\n",
    "\n",
    "weather"
   ]
  },
  {
   "attachments": {},
   "cell_type": "markdown",
   "metadata": {},
   "source": [
    "## آیتم ها / items"
   ]
  },
  {
   "cell_type": "code",
   "execution_count": 1,
   "metadata": {},
   "outputs": [
    {
     "data": {
      "text/plain": [
       "dict_items([('Esfahan', 14.3), ('Ahvaz', 22.1), ('Kurdestan', 11.9)])"
      ]
     },
     "execution_count": 1,
     "metadata": {},
     "output_type": "execute_result"
    }
   ],
   "source": [
    "# get the list key/value pairs\n",
    "weather = {\n",
    "    \"Esfahan\": 14.3,\n",
    "    \"Ahvaz\": 22.1,\n",
    "    \"Kurdestan\": 11.9\n",
    "}\n",
    "\n",
    "weather.items()"
   ]
  },
  {
   "attachments": {},
   "cell_type": "markdown",
   "metadata": {},
   "source": [
    "## حذف کلید / delete key"
   ]
  },
  {
   "cell_type": "code",
   "execution_count": 17,
   "metadata": {},
   "outputs": [
    {
     "data": {
      "text/plain": [
       "{'Esfahan': 14.3, 'Kurdestan': 11.9}"
      ]
     },
     "execution_count": 17,
     "metadata": {},
     "output_type": "execute_result"
    }
   ],
   "source": [
    "# get the list key/value pairs\n",
    "weather = {\n",
    "    \"Esfahan\": 14.3,\n",
    "    \"Ahvaz\": 22.1,\n",
    "    \"Kurdestan\": 11.9\n",
    "}\n",
    "\n",
    "del weather[\"Ahvaz\"]\n",
    "\n",
    "weather"
   ]
  }
 ],
 "metadata": {
  "kernelspec": {
   "display_name": "Python 3",
   "language": "python",
   "name": "python3"
  },
  "language_info": {
   "codemirror_mode": {
    "name": "ipython",
    "version": 3
   },
   "file_extension": ".py",
   "mimetype": "text/x-python",
   "name": "python",
   "nbconvert_exporter": "python",
   "pygments_lexer": "ipython3",
   "version": "3.10.10"
  },
  "orig_nbformat": 4
 },
 "nbformat": 4,
 "nbformat_minor": 2
}
