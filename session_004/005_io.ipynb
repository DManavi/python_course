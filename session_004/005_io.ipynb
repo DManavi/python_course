{
 "cells": [
  {
   "attachments": {},
   "cell_type": "markdown",
   "metadata": {},
   "source": [
    "# IO / input/output"
   ]
  },
  {
   "attachments": {},
   "cell_type": "markdown",
   "metadata": {},
   "source": [
    "## مسیردهی\n",
    "\n",
    "دو روش مسیردهی کلی وجود دارد\n",
    "\n",
    "فرض کنیم یک فایل در مسیر زیر وجود دارد\n",
    "\n",
    "- windows: c:\\Users\\MyUser\\path\\to\\file_1.txt\n",
    "- *nix: /home/my_user/path/to/file_1.txt\n",
    "\n",
    "\n",
    "### مسیردهی مطلق - absolute path\n",
    "\n",
    "در این روش از ریشه (root) آدرس دهی انجام می شود\n",
    "\n",
    "- windows: c:\\Users\\MyUser\\path\\to\\file_1.txt\n",
    "- *nix: /home/my_user/path/to/file_1.txt\n",
    "\n",
    "### مسیردهی نسبی - relative path\n",
    "\n",
    "آدرس دهی به نسبت / بر اساس دایرکتوری فعلی انجام می شود\n",
    "\n",
    "- . = دایرکتوری فعلی\n",
    "- .. = دایرکتوری بالاتر / پدر دایرکتوری فعلی\n",
    "\n",
    "اگر کاربر در خط فرمان در دایرکتوری زیر باشد، برای دسترسی به فایل \n",
    "\n",
    "pwd/cwd in windows = C:\\\\Users\\\\MyUser\\\\My_Project\n",
    "pwd/cwd in *nix = /home/my_user/my_project (or ~/)\n",
    "\n",
    "- windows = ..\\path\\to\\file_1.txt\n",
    "- *nix = ../path/to/file_1.txt\n",
    "\n",
    "\n",
    "> pwd = print working directory\n",
    "\n",
    "> cwd = current working directory\n",
    "\n"
   ]
  },
  {
   "attachments": {},
   "cell_type": "markdown",
   "metadata": {},
   "source": [
    "## دسترسی به فایل"
   ]
  },
  {
   "cell_type": "code",
   "execution_count": 1,
   "metadata": {},
   "outputs": [],
   "source": [
    "# به صورت پیشفرش، فایل ها برای خواندن باز خواهند شد\n",
    "\n",
    "# absolute path / from root directory\n",
    "# my_file = open(\"c:\\\\users\\\\teacher\\\\learning\\\\python\\\\session_004\\\\file_1.txt\")\n",
    "# my_file_2 = open(\"c:\\\\users\\\\teacher\\\\learning\\\\python\\\\another_file.txt\")\n",
    "\n",
    "# relative path (relative to pwd/cwd)\n",
    "my_file = open(\"file_1.txt\") # خواندن فایل از دایرکتوری فعلی\n",
    "my_file_2 = open(\"..\\\\another_file.txt\") # خواندن فایل از دایرکتوری بالاتر\n",
    "\n",
    "# همیشه فایل ها بسته شوند\n",
    "my_file.close()\n",
    "my_file_2.close()"
   ]
  },
  {
   "attachments": {},
   "cell_type": "markdown",
   "metadata": {},
   "source": [
    "## نحوه پیدا کردن cwd/pwd"
   ]
  },
  {
   "cell_type": "code",
   "execution_count": 1,
   "metadata": {},
   "outputs": [
    {
     "data": {
      "text/plain": [
       "'c:\\\\Users\\\\teacher\\\\teaching\\\\python\\\\session_004'"
      ]
     },
     "execution_count": 1,
     "metadata": {},
     "output_type": "execute_result"
    }
   ],
   "source": [
    "# current directory\n",
    "from os import getcwd\n",
    "\n",
    "getcwd()"
   ]
  },
  {
   "attachments": {},
   "cell_type": "markdown",
   "metadata": {},
   "source": [
    "## خواندن فایل"
   ]
  },
  {
   "cell_type": "code",
   "execution_count": 5,
   "metadata": {},
   "outputs": [
    {
     "name": "stdout",
     "output_type": "stream",
     "text": [
      "This is my file content\n",
      "This is the second line\n",
      "This is the third line\n",
      "This is the fourth line\n"
     ]
    }
   ],
   "source": [
    "my_file = open(\"file_1.txt\")\n",
    "\n",
    "# خواندن تمام محتوای فایل به صورت رشته\n",
    "my_file_content = my_file.read()\n",
    "\n",
    "my_file.close()\n",
    "\n",
    "print(my_file_content)"
   ]
  },
  {
   "cell_type": "code",
   "execution_count": 4,
   "metadata": {},
   "outputs": [
    {
     "name": "stdout",
     "output_type": "stream",
     "text": [
      "Salam be hame\n"
     ]
    }
   ],
   "source": [
    "my_file = open(\"language.txt\")\n",
    "\n",
    "labels = my_file.readlines()\n",
    "\n",
    "print(labels[0])\n",
    "\n",
    "my_file.close()"
   ]
  },
  {
   "attachments": {},
   "cell_type": "markdown",
   "metadata": {},
   "source": [
    "## جستجو / seek"
   ]
  },
  {
   "cell_type": "code",
   "execution_count": 10,
   "metadata": {},
   "outputs": [
    {
     "name": "stdout",
     "output_type": "stream",
     "text": [
      "This is my file content\n",
      "This is the second line\n",
      "This is the third line\n",
      "This is the fourth line\n",
      "---------------\n",
      "This is my file content\n",
      "This is the second line\n",
      "This is the third line\n",
      "This is the fourth line\n"
     ]
    }
   ],
   "source": [
    "my_file = open(\"file_1.txt\")\n",
    "\n",
    "# خواندن تمام محتوا از ابتدا تا انتها\n",
    "my_file_content_1 = my_file.read()\n",
    "print(my_file_content_1)\n",
    "\n",
    "# انتقال اشاره گر به ابتدای فایل\n",
    "my_file.seek(0)\n",
    "print(\"---------------\")\n",
    "\n",
    "# خواندن مجدد محتوای فایل\n",
    "my_file_content_2 = my_file.read()\n",
    "print(my_file_content_2)\n",
    "\n",
    "my_file.close()"
   ]
  },
  {
   "attachments": {},
   "cell_type": "markdown",
   "metadata": {},
   "source": [
    "## خواندن خط به خط"
   ]
  },
  {
   "cell_type": "code",
   "execution_count": 8,
   "metadata": {},
   "outputs": [
    {
     "name": "stdout",
     "output_type": "stream",
     "text": [
      "['This is my file content\\n', 'This is the second line\\n', 'This is the third line\\n', 'This is the fourth line\\n']\n"
     ]
    }
   ],
   "source": [
    "my_file = open(\"file_1.txt\")\n",
    "\n",
    "# خواندن تمامی خطوط فایل - به صورت یک لیست\n",
    "my_file_lines = my_file.readlines()\n",
    "\n",
    "my_file.close()\n",
    "\n",
    "print(my_file_lines)"
   ]
  },
  {
   "attachments": {},
   "cell_type": "markdown",
   "metadata": {},
   "source": [
    "## خواندن فایل به کمک with"
   ]
  },
  {
   "cell_type": "code",
   "execution_count": 13,
   "metadata": {},
   "outputs": [
    {
     "name": "stdout",
     "output_type": "stream",
     "text": [
      "This is my file content\n",
      "This is the second line\n",
      "This is the third line\n",
      "This is the fourth line\n"
     ]
    }
   ],
   "source": [
    "\"\"\"\n",
    "ساختار بلاک with\n",
    "\n",
    "with <command/function> [as alias]:\n",
    "    # دستور ها\n",
    "    pass\n",
    "    \n",
    "# ادامه برنامه\n",
    "\"\"\"\n",
    "\n",
    "with open('file_1.txt') as my_file:\n",
    "    my_file_content = my_file.read()\n",
    "\n",
    "print(my_file_content)"
   ]
  }
 ],
 "metadata": {
  "kernelspec": {
   "display_name": "Python 3",
   "language": "python",
   "name": "python3"
  },
  "language_info": {
   "codemirror_mode": {
    "name": "ipython",
    "version": 3
   },
   "file_extension": ".py",
   "mimetype": "text/x-python",
   "name": "python",
   "nbconvert_exporter": "python",
   "pygments_lexer": "ipython3",
   "version": "3.10.10"
  },
  "orig_nbformat": 4
 },
 "nbformat": 4,
 "nbformat_minor": 2
}
