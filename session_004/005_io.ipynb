{
 "cells": [
  {
   "attachments": {},
   "cell_type": "markdown",
   "metadata": {},
   "source": [
    "# IO / input/output"
   ]
  },
  {
   "attachments": {},
   "cell_type": "markdown",
   "metadata": {},
   "source": [
    "## مسیردهی\n",
    "\n",
    "دو روش مسیردهی کلی وجود دارد\n",
    "\n",
    "فرض کنیم یک فایل در مسیر زیر وجود دارد\n",
    "\n",
    "- windows: c:\\Users\\MyUser\\path\\to\\file_1.txt\n",
    "- *nix: /home/my_user/path/to/file_1.txt\n",
    "\n",
    "\n",
    "### مسیردهی مطلق - absolute path\n",
    "\n",
    "در این روش از ریشه (root) آدرس دهی انجام می شود\n",
    "\n",
    "- windows: c:\\Users\\MyUser\\path\\to\\file_1.txt\n",
    "- *nix: /home/my_user/path/to/file_1.txt\n",
    "\n",
    "### مسیردهی نسبی - relative path\n",
    "\n",
    "آدرس دهی به نسبت / بر اساس دایرکتوری فعلی انجام می شود\n",
    "\n",
    "- . = دایرکتوری فعلی\n",
    "- .. = دایرکتوری بالاتر / پدر دایرکتوری فعلی\n",
    "\n",
    "اگر کاربر در خط فرمان در دایرکتوری زیر باشد، برای دسترسی به فایل \n",
    "\n",
    "pwd/cwd in windows = C:\\\\Users\\\\MyUser\\\\My_Project\n",
    "pwd/cwd in *nix = /home/my_user/my_project (or ~/)\n",
    "\n",
    "- windows = ..\\path\\to\\file_1.txt\n",
    "- *nix = ../path/to/file_1.txt\n",
    "\n",
    "\n",
    "> pwd = print working directory\n",
    "\n",
    "> cwd = current working directory\n",
    "\n"
   ]
  },
  {
   "attachments": {},
   "cell_type": "markdown",
   "metadata": {},
   "source": [
    "## دسترسی به فایل"
   ]
  },
  {
   "cell_type": "code",
   "execution_count": 1,
   "metadata": {},
   "outputs": [],
   "source": [
    "# به صورت پیشفرش، فایل ها برای خواندن باز خواهند شد\n",
    "\n",
    "# absolute path / from root directory\n",
    "# my_file = open(\"c:\\\\users\\\\teacher\\\\learning\\\\python\\\\session_004\\\\file_1.txt\")\n",
    "# my_file_2 = open(\"c:\\\\users\\\\teacher\\\\learning\\\\python\\\\another_file.txt\")\n",
    "\n",
    "# relative path (relative to pwd/cwd)\n",
    "my_file = open(\"file_1.txt\") # خواندن فایل از دایرکتوری فعلی\n",
    "my_file_2 = open(\"..\\\\another_file.txt\") # خواندن فایل از دایرکتوری بالاتر\n",
    "\n",
    "# همیشه فایل ها بسته شوند\n",
    "my_file.close()\n",
    "my_file_2.close()"
   ]
  },
  {
   "attachments": {},
   "cell_type": "markdown",
   "metadata": {},
   "source": [
    "## نحوه پیدا کردن cwd/pwd"
   ]
  },
  {
   "cell_type": "code",
   "execution_count": 4,
   "metadata": {},
   "outputs": [
    {
     "data": {
      "text/plain": [
       "'c:\\\\Users\\\\teacher\\\\learning\\\\python\\\\session_004'"
      ]
     },
     "execution_count": 4,
     "metadata": {},
     "output_type": "execute_result"
    }
   ],
   "source": [
    "# current directory\n",
    "from os import getcwd\n",
    "\n",
    "getcwd()"
   ]
  },
  {
   "attachments": {},
   "cell_type": "markdown",
   "metadata": {},
   "source": [
    "## خواندن فایل"
   ]
  },
  {
   "cell_type": "code",
   "execution_count": 5,
   "metadata": {},
   "outputs": [
    {
     "name": "stdout",
     "output_type": "stream",
     "text": [
      "This is my file content\n",
      "This is the second line\n",
      "This is the third line\n",
      "This is the fourth line\n"
     ]
    }
   ],
   "source": [
    "my_file = open(\"file_1.txt\")\n",
    "\n",
    "# خواندن تمام محتوای فایل به صورت رشته\n",
    "my_file_content = my_file.read()\n",
    "\n",
    "my_file.close()\n",
    "\n",
    "print(my_file_content)"
   ]
  },
  {
   "attachments": {},
   "cell_type": "markdown",
   "metadata": {},
   "source": [
    "## جستجو / seek"
   ]
  },
  {
   "cell_type": "code",
   "execution_count": 15,
   "metadata": {},
   "outputs": [
    {
     "name": "stdout",
     "output_type": "stream",
     "text": [
      "This is my file content\n",
      "is my file content\n"
     ]
    }
   ],
   "source": [
    "my_file = open(\"file_1.txt\")\n",
    "\n",
    "# خواندن تمام محتوا از ابتدا تا انتها\n",
    "my_file_content_1 = my_file.read()\n",
    "\n",
    "# انتقال اشاره گر به ابتدای فایل\n",
    "my_file.seek(0)\n",
    "\n",
    "# خواندن مجدد محتوای فایل\n",
    "my_file_content_2 = my_file.read()\n",
    "\n",
    "my_file.close()\n",
    "\n",
    "print(my_file_content_1)\n",
    "print(my_file_content_2)"
   ]
  },
  {
   "attachments": {},
   "cell_type": "markdown",
   "metadata": {},
   "source": [
    "## خواندن خط به خط"
   ]
  },
  {
   "cell_type": "code",
   "execution_count": 7,
   "metadata": {},
   "outputs": [
    {
     "name": "stdout",
     "output_type": "stream",
     "text": [
      "['This is my file content\\n', 'This is the second line\\n', 'This is the third line\\n', 'This is the fourth line']\n"
     ]
    }
   ],
   "source": [
    "my_file = open(\"file_1.txt\")\n",
    "\n",
    "# خواندن تمامی خطوط فایل - به صورت یک لیست\n",
    "my_file_lines = my_file.readlines()\n",
    "\n",
    "my_file.close()\n",
    "\n",
    "print(my_file_lines)"
   ]
  },
  {
   "attachments": {},
   "cell_type": "markdown",
   "metadata": {},
   "source": [
    "## خواندن فایل به کمک with"
   ]
  },
  {
   "cell_type": "code",
   "execution_count": 28,
   "metadata": {},
   "outputs": [
    {
     "ename": "ValueError",
     "evalue": "I/O operation on closed file.",
     "output_type": "error",
     "traceback": [
      "\u001b[1;31m---------------------------------------------------------------------------\u001b[0m",
      "\u001b[1;31mValueError\u001b[0m                                Traceback (most recent call last)",
      "Cell \u001b[1;32mIn[28], line 4\u001b[0m\n\u001b[0;32m      1\u001b[0m \u001b[39mwith\u001b[39;00m \u001b[39mopen\u001b[39m(\u001b[39m'\u001b[39m\u001b[39mfile_1.txt\u001b[39m\u001b[39m'\u001b[39m) \u001b[39mas\u001b[39;00m my_file:\n\u001b[0;32m      2\u001b[0m     my_file_content \u001b[39m=\u001b[39m my_file\u001b[39m.\u001b[39mread()\n\u001b[1;32m----> 4\u001b[0m my_file\u001b[39m.\u001b[39;49mread()\n\u001b[0;32m      5\u001b[0m \u001b[39mprint\u001b[39m(my_file_content)\n",
      "\u001b[1;31mValueError\u001b[0m: I/O operation on closed file."
     ]
    }
   ],
   "source": [
    "\"\"\"\n",
    "ساختار بلاک with\n",
    "\n",
    "with <command/function> [as alias]:\n",
    "    # دستور ها\n",
    "    pass\n",
    "    \n",
    "# ادامه برنامه\n",
    "\"\"\"\n",
    "\n",
    "with open('file_1.txt') as my_file:\n",
    "    my_file_content = my_file.read()\n",
    "\n",
    "print(my_file_content)"
   ]
  }
 ],
 "metadata": {
  "kernelspec": {
   "display_name": "Python 3",
   "language": "python",
   "name": "python3"
  },
  "language_info": {
   "codemirror_mode": {
    "name": "ipython",
    "version": 3
   },
   "file_extension": ".py",
   "mimetype": "text/x-python",
   "name": "python",
   "nbconvert_exporter": "python",
   "pygments_lexer": "ipython3",
   "version": "3.10.10"
  },
  "orig_nbformat": 4
 },
 "nbformat": 4,
 "nbformat_minor": 2
}
