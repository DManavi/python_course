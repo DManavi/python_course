{
 "cells": [
  {
   "attachments": {},
   "cell_type": "markdown",
   "metadata": {},
   "source": [
    "# قواعد نام گذاری در پایتون"
   ]
  },
  {
   "attachments": {},
   "cell_type": "markdown",
   "metadata": {},
   "source": [
    "## متغیرها"
   ]
  },
  {
   "cell_type": "code",
   "execution_count": 1,
   "metadata": {},
   "outputs": [],
   "source": [
    "# -=-=-=-=-=-=-=-=-=-=-=\n",
    "# python\n",
    "# -=-=-=-=-=-=-=-=-=-=-=\n",
    "my_name = \"Danial\"\n",
    "myname = \"Danial\"\n",
    "# -=-=-=-=-=-=-=-=-=-=-=\n",
    "\n",
    "# اشتباه / incorrect\n",
    "My_Variable = 10\n",
    "My_name = \"Danial\""
   ]
  }
 ],
 "metadata": {
  "kernelspec": {
   "display_name": "Python 3",
   "language": "python",
   "name": "python3"
  },
  "language_info": {
   "codemirror_mode": {
    "name": "ipython",
    "version": 3
   },
   "file_extension": ".py",
   "mimetype": "text/x-python",
   "name": "python",
   "nbconvert_exporter": "python",
   "pygments_lexer": "ipython3",
   "version": "3.10.10"
  },
  "orig_nbformat": 4
 },
 "nbformat": 4,
 "nbformat_minor": 2
}
