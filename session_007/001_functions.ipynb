{
 "cells": [
  {
   "attachments": {},
   "cell_type": "markdown",
   "metadata": {},
   "source": [
    "# توابع / functions"
   ]
  },
  {
   "attachments": {},
   "cell_type": "markdown",
   "metadata": {},
   "source": [
    "## چند نمونه از توابع"
   ]
  },
  {
   "cell_type": "code",
   "execution_count": 1,
   "metadata": {},
   "outputs": [
    {
     "name": "stdout",
     "output_type": "stream",
     "text": [
      "Hello World\n"
     ]
    },
    {
     "data": {
      "text/plain": [
       "8"
      ]
     },
     "execution_count": 1,
     "metadata": {},
     "output_type": "execute_result"
    }
   ],
   "source": [
    "\n",
    "# تابع print\n",
    "print(\"Hello World\")\n",
    "\n",
    "# تابع append از لیست\n",
    "[1,2,3].append(4)\n",
    "\n",
    "# تابع تبدیل رشته به عدد صحیح\n",
    "int(\"1234\")\n",
    "\n",
    "# تابع تبدیل رشته به عدد اعشاری\n",
    "float(\"123.5\")\n",
    "\n",
    "# تابع توان\n",
    "pow(2, 3)"
   ]
  },
  {
   "attachments": {},
   "cell_type": "markdown",
   "metadata": {},
   "source": [
    "## نحوه تعریف"
   ]
  },
  {
   "cell_type": "code",
   "execution_count": 2,
   "metadata": {},
   "outputs": [],
   "source": [
    "\n",
    "\"\"\"\n",
    "ساختار کلی تعریف تابع\n",
    "\n",
    "نکته: مقادیر داخل براکت اجباری نیستند\n",
    "\n",
    "def function_name([arg1, arg2]):\n",
    "    command1\n",
    "    command2\n",
    "    command3\n",
    "\n",
    "    # مقدار بازگشتی\n",
    "    [return value]\n",
    "\"\"\"\n",
    "\n",
    "def my_function():\n",
    "    pass"
   ]
  },
  {
   "cell_type": "code",
   "execution_count": 3,
   "metadata": {},
   "outputs": [
    {
     "name": "stdout",
     "output_type": "stream",
     "text": [
      "Salam\n",
      "Salam\n",
      "Salam\n",
      "Salam\n"
     ]
    }
   ],
   "source": [
    "\"\"\"\n",
    "تابع say_hello ۲ خصوصیت اصلی دارد\n",
    "\n",
    "۱) پارامتر ورودی ندارد\n",
    "۲) هیچ مقداری را باز نمیگرداند\n",
    "\"\"\"\n",
    "\n",
    "# تعریف تابع بدون پارامتر ورودی و مقدار بازگشتی\n",
    "def say_hello():\n",
    "    print(\"Salam\")\n",
    "\n",
    "# تابع بالا را می توان به تعداد دلخواه فراخوانی کرد (صدا زد)\n",
    "say_hello()\n",
    "say_hello()\n",
    "say_hello()\n",
    "say_hello()"
   ]
  },
  {
   "cell_type": "code",
   "execution_count": 5,
   "metadata": {},
   "outputs": [
    {
     "name": "stdout",
     "output_type": "stream",
     "text": [
      "Age: 19\n",
      "Temp: 22\n"
     ]
    }
   ],
   "source": [
    "\"\"\"\n",
    "تابع input_number ۲ خصوصیت دارد\n",
    "\n",
    "۱) هیچ پارامتر ورودی نمی گیرد\n",
    "۲) یک مقدار عددی باز میگرداند\n",
    "\"\"\"\n",
    "\n",
    "# تعریف تابع بدون پارامتر ورودی که مقدار عددی برمیگرداند\n",
    "def input_number():\n",
    "    n = int(input(\"Enter number: \"))\n",
    "    return n\n",
    "\n",
    "age = input_number()\n",
    "temp = input_number()\n",
    "\n",
    "print(f\"Age: {age}\")\n",
    "print(f\"Temp: {temp}\")"
   ]
  },
  {
   "cell_type": "code",
   "execution_count": 6,
   "metadata": {},
   "outputs": [
    {
     "name": "stdout",
     "output_type": "stream",
     "text": [
      "Hello Kamyar\n",
      "Hello Fereshte\n",
      "Hello Amoo!\n"
     ]
    }
   ],
   "source": [
    "\"\"\"\n",
    "تابع say_hello ۲ خصوصیت دارد\n",
    "\n",
    "۱) یک پارامتر ورودی می گیرد\n",
    "۲) هیچ مقداری را باز نمیگرداند\n",
    "\"\"\"\n",
    "\n",
    "# تعریف تابع با پارامتر ورودی که هیچ مقداری را بر نمیگرداند\n",
    "def say_hello(name):\n",
    "    print(f\"Hello {name}\")\n",
    "\n",
    "\n",
    "say_hello(\"Kamyar\")\n",
    "say_hello(\"Fereshte\")\n",
    "say_hello(\"Amoo!\")"
   ]
  },
  {
   "cell_type": "code",
   "execution_count": 21,
   "metadata": {},
   "outputs": [
    {
     "data": {
      "text/plain": [
       "'Mashhad, Esfahan, Tehran, Ahvaz, Qazvin, Tabriz, Yazd'"
      ]
     },
     "execution_count": 21,
     "metadata": {},
     "output_type": "execute_result"
    }
   ],
   "source": [
    "\"\"\"\n",
    "تابع strip_linebreaks ۲ خصوصیت دارد\n",
    "\n",
    "۱) یک پارامتر ورودی می گیرد\n",
    "۲) یک مقدار رشته ای باز میگرداند\n",
    "\"\"\"\n",
    "\n",
    "# تعریف تابع با پارامتر ورودی که یک مقدار رشته ای را بر می گرداند\n",
    "def strip_linebreaks(content):\n",
    "    return content.strip(\"\\n\")\n",
    "\n",
    "city_list = []\n",
    "\n",
    "with open(\"city_names.txt\") as city_names:\n",
    "    # تمامی خطوط فایل را بخوان\n",
    "    for city in city_names.readlines(): \n",
    "\n",
    "        # حذف \\n از انتهای هر خط\n",
    "        sanitized_city_name = strip_linebreaks(city)\n",
    "\n",
    "        # اضافه کردن اسم تمیز شده شهر به لیست\n",
    "        city_list.append(sanitized_city_name)\n",
    "\n",
    "# چسباندن لیست شهرها به یکدیگر با کاما\n",
    "\", \".join(city_list)"
   ]
  },
  {
   "cell_type": "code",
   "execution_count": 29,
   "metadata": {},
   "outputs": [
    {
     "name": "stdout",
     "output_type": "stream",
     "text": [
      "5\n"
     ]
    }
   ],
   "source": [
    "\"\"\"\n",
    "تابع input_positive_number ۲ خصوصیت دارد\n",
    "\n",
    "۱) هیچ پارامتر ورودی نمی گیرد\n",
    "۲) یک مقدار رشته ای باز میگرداند\n",
    "\"\"\"\n",
    "\n",
    "# تعریف یک تابع که یک مقدار عددی صحیح مثبت را از کاربر دریافت می کند\n",
    "# تا زمانی که عدد وارد شده صحیح نباشد، از حلقه خارج نمی شود\n",
    "def input_positive_number():\n",
    "    is_positive = False\n",
    "    number = None\n",
    "    \n",
    "    while is_positive == False:\n",
    "        number = int(input(\"Enter a positive number: \"))\n",
    "\n",
    "        # اگر عدد بزرگتر از -۱ باشد،‌آن عدد مثبت است\n",
    "        is_positive = number > -1\n",
    "    \n",
    "    return number\n",
    "\n",
    "# فراخوانی تابع و قراردادن مقدار دریافت شده از کاربر در یک متغیر\n",
    "my_positive_number = input_positive_number()\n",
    "\n",
    "print(my_positive_number)\n"
   ]
  },
  {
   "cell_type": "code",
   "execution_count": 7,
   "metadata": {},
   "outputs": [
    {
     "name": "stdout",
     "output_type": "stream",
     "text": [
      "Age: 35\n",
      "Score: 14\n"
     ]
    }
   ],
   "source": [
    "\"\"\"\n",
    "تابع input_positive_number ۲ خصوصیت دارد\n",
    "\n",
    "۱) یک پارامتر ورودی می گیرد\n",
    "۲) یک مقدار رشته ای باز میگرداند\n",
    "\"\"\"\n",
    "\n",
    "# تعریف یک تابع که یک مقدار عددی صحیح مثبت را از کاربر دریافت می کند\n",
    "# تا زمانی که عدد وارد شده صحیح نباشد، از حلقه خارج نمی شود\n",
    "def input_positive_number(prompt):\n",
    "    is_positive = False\n",
    "    number = None\n",
    "    \n",
    "    while is_positive == False:\n",
    "        # متن دلخواه برنامه نویس به کاربر نشان داده می شود\n",
    "        number = int(input(prompt))\n",
    "\n",
    "        is_positive = number > -1\n",
    "    \n",
    "    return number\n",
    "\n",
    "# فراخوانی تابع و قراردادن مقدار دریافت شده از کاربر در یک متغیر\n",
    "age = input_positive_number(\"Enter your age: \")\n",
    "\n",
    "# فراخوانی تابع و قراردادن مقدار دریافت شده از کاربر در یک متغیر\n",
    "score = input_positive_number(\"Enter your score: \")\n",
    "\n",
    "print(f\"Age: {age}\")\n",
    "print(f\"Score: {score}\")"
   ]
  },
  {
   "cell_type": "code",
   "execution_count": 34,
   "metadata": {},
   "outputs": [],
   "source": [
    "\"\"\"\n",
    "تابع input_positive_number ۲ خصوصیت دارد\n",
    "\n",
    "۱) یک پارامتر ورودی می گیرد که مقدار پیش فرض دارد\n",
    "۲) یک مقدار رشته ای باز میگرداند\n",
    "\"\"\"\n",
    "\n",
    "# تعریف یک تابع که یک مقدار عددی صحیح مثبت را از کاربر دریافت می کند\n",
    "# تا زمانی که عدد وارد شده صحیح نباشد، از حلقه خارج نمی شود\n",
    "def input_positive_number(prompt = \"Enter a positive number: \"):\n",
    "    is_positive = False\n",
    "    number = None\n",
    "    \n",
    "    while is_positive == False:\n",
    "        # متن دلخواه برنامه نویس/پیش فرض به کاربر نشان داده می شود\n",
    "        number = int(input(prompt))\n",
    "\n",
    "        is_positive = number > -1\n",
    "    \n",
    "    return number\n",
    "\n",
    "# فراخوانی تابع و قراردادن مقدار دریافت شده از کاربر در یک متغیر\n",
    "# متن پیش فرض به کاربر نمایش داده خواهد شد\n",
    "age = input_positive_number()\n",
    "\n",
    "# فراخوانی تابع و قراردادن مقدار دریافت شده از کاربر در یک متغیر\n",
    "# متن دلخواه به کاربر نمایش داده خواهد شد\n",
    "score = input_positive_number(\"Enter your score: \")"
   ]
  },
  {
   "cell_type": "code",
   "execution_count": 8,
   "metadata": {},
   "outputs": [
    {
     "data": {
      "text/plain": [
       "3"
      ]
     },
     "execution_count": 8,
     "metadata": {},
     "output_type": "execute_result"
    }
   ],
   "source": [
    "\"\"\"\n",
    "تابع my_max ۲ خصوصیت دارد\n",
    "\n",
    "۱) دو پارامتر ورودی می گیرد\n",
    "۲) یک مقدار عددی بر می گرداند\n",
    "\"\"\"\n",
    "\n",
    "# این تابع،‌ بزرگترین عدد از بین ۲ عدد وارد شده را بر می گرداند\n",
    "def my_max(n1, n2):\n",
    "    if n1 > n2:\n",
    "        return n1\n",
    "    elif n2 > n1:\n",
    "        return n2\n",
    "    else:\n",
    "        return n1\n",
    "    \n",
    "my_max(1, 2)\n",
    "my_max(3, 1)\n"
   ]
  },
  {
   "cell_type": "code",
   "execution_count": 11,
   "metadata": {},
   "outputs": [
    {
     "name": "stdout",
     "output_type": "stream",
     "text": [
      "4\n",
      "2\n",
      "10\n"
     ]
    }
   ],
   "source": [
    "\"\"\"\n",
    "تابع my_max_n ۲ خصوصیت دارد\n",
    "\n",
    "۱) به تعداد نامشخص (۰ الی حداکثر) پارامتر دریافت می کند\n",
    "۲) یک مقدار عددی بر می گرداند\n",
    "\"\"\"\n",
    "\n",
    "# این تابع، بزرگترین عدد وارد شده بر می گرداند\n",
    "def my_max_n(*args):\n",
    "    max_number = float('-inf') # منفی بی نهایت\n",
    "    \n",
    "    # به ازای هر عدد در پارامترهای ورودی\n",
    "    for n in args:\n",
    "        if n > max_number:\n",
    "            max_number = n\n",
    "\n",
    "    return max_number\n",
    "\n",
    "print(my_max_n(1, -1, 4))\n",
    "print(my_max_n(1, 2))\n",
    "print(my_max_n(1, 5, 2, 3, 10, 7))"
   ]
  },
  {
   "attachments": {},
   "cell_type": "markdown",
   "metadata": {},
   "source": [
    "## اعداد بی نهایت"
   ]
  },
  {
   "cell_type": "code",
   "execution_count": 9,
   "metadata": {},
   "outputs": [
    {
     "data": {
      "text/plain": [
       "-inf"
      ]
     },
     "execution_count": 9,
     "metadata": {},
     "output_type": "execute_result"
    }
   ],
   "source": [
    "\"\"\"\n",
    "چنانچه نیاز به عدد بی نهایت داشتید، از روش زیر استفاده کنید\n",
    "\"\"\"\n",
    "\n",
    "# مثبت بی نهایت - بزرگتر از هر عددی\n",
    "float('inf')\n",
    "\n",
    "# منفی بی نهایت - کوچکتر از هر عددی\n",
    "float('-inf')"
   ]
  }
 ],
 "metadata": {
  "kernelspec": {
   "display_name": "Python 3",
   "language": "python",
   "name": "python3"
  },
  "language_info": {
   "codemirror_mode": {
    "name": "ipython",
    "version": 3
   },
   "file_extension": ".py",
   "mimetype": "text/x-python",
   "name": "python",
   "nbconvert_exporter": "python",
   "pygments_lexer": "ipython3",
   "version": "3.10.10"
  },
  "orig_nbformat": 4
 },
 "nbformat": 4,
 "nbformat_minor": 2
}
