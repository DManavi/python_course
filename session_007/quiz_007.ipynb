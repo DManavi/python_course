{
 "cells": [
  {
   "attachments": {},
   "cell_type": "markdown",
   "metadata": {},
   "source": [
    "# سوال جلسه هفتم\n",
    "\n",
    "- فایل نام شهرها city_names.txt\n",
    "- فایل دمای هوای شهرها city_temps.txt"
   ]
  },
  {
   "attachments": {},
   "cell_type": "markdown",
   "metadata": {},
   "source": [
    "## سوال ۱\n",
    "\n",
    "تابعی بنویسید که نام شهر و دمای هوای آن شهر را از کاربر گرفته و به انتهای فایل های مربوطه اضافه کند\n",
    "\n",
    "- نام شهر نمی تواند خالی باشد\n",
    "- دمای هوا باید در بازه -۷۵ الی +۷۵ باشد\n",
    "- تابع فقط باید نام و دمای یک شهر را دریافت کند\n",
    "\n",
    "در انتها از کاربر پرسیده شود که آیا ادامه می دهد؟ چنانچه کاربر گزینه بله را انتخاب کرد، نام شهر بعدی پرسیده شود. در غیر این صورد از برنامه خارج شوید."
   ]
  },
  {
   "cell_type": "code",
   "execution_count": 4,
   "metadata": {},
   "outputs": [],
   "source": [
    "# your code goes here\n",
    "\n",
    "def get_user_input():\n",
    "\n",
    "    # should_continue = True\n",
    "    \n",
    "    # while should_continue == True:\n",
    "\n",
    "        # # get city\n",
    "        # city_name = \"\"\n",
    "        # while len(city_name) == 0:\n",
    "        #     city_name = input(\"Enter city name: \")\n",
    "        #     city_name = city_name.strip()\n",
    "\n",
    "        # # get temperature\n",
    "        # city_temperature = float(\"inf\")\n",
    "        # while city_temperature < -75 or city_temperature > 75:\n",
    "        #     user_input = input(\"Enter temperature: \")\n",
    "        #     user_input = user_input.strip()\n",
    "\n",
    "        #     city_temperature = float(user_input)\n",
    "\n",
    "        # # write to disk/file\n",
    "        # with open(\"city_names.txt\", \"a\") as f:\n",
    "        #     f.write(f\"\\n{city_name}\")\n",
    "\n",
    "        # with open(\"city_temps.txt\", \"a\") as f:\n",
    "        #     f.write(f\"\\n{city_temperature}\")\n",
    "    \n",
    "        # user_answer = input(\"Do you want to continue? (Y/N) \")\n",
    "\n",
    "        # should_continue = user_answer != \"N\"\n",
    "\n",
    "    # get city\n",
    "    city_name = \"\"\n",
    "    while len(city_name) == 0:\n",
    "        city_name = input(\"Enter city name: \")\n",
    "        city_name = city_name.strip()\n",
    "\n",
    "    # get temperature\n",
    "    city_temperature = float(\"inf\")\n",
    "    while city_temperature < -75 or city_temperature > 75:\n",
    "        user_input = input(\"Enter temperature: \")\n",
    "        user_input = user_input.strip()\n",
    "\n",
    "        city_temperature = float(user_input)\n",
    "\n",
    "    # write to disk/file\n",
    "    with open(\"city_names.txt\", \"a\") as f:\n",
    "        f.write(f\"\\n{city_name}\")\n",
    "\n",
    "    with open(\"city_temps.txt\", \"a\") as f:\n",
    "        f.write(f\"\\n{city_temperature}\")\n",
    "\n",
    "\n",
    "######################################################\n",
    "\n",
    "should_continue = True\n",
    "\n",
    "while should_continue == True:\n",
    "    get_user_input()\n",
    "\n",
    "    user_answer = input(\"Do you want to continue? (Y/N) \")\n",
    "    should_continue = user_answer != \"N\""
   ]
  },
  {
   "attachments": {},
   "cell_type": "markdown",
   "metadata": {},
   "source": [
    "## سوال ۲\n",
    "\n",
    "تابعی بنویسید که دمای هوای شهرها را خوانده و مجموع آن را برگرداند"
   ]
  },
  {
   "cell_type": "code",
   "execution_count": 10,
   "metadata": {},
   "outputs": [
    {
     "name": "stdout",
     "output_type": "stream",
     "text": [
      "Temps: 152.6\n"
     ]
    }
   ],
   "source": [
    "# your code goes here\n",
    "\n",
    "def read_temps():\n",
    "    # temp_list = []\n",
    "    total_temp = 0\n",
    "\n",
    "    # read all temperatures & convert to number\n",
    "    with open(\"city_temps.txt\", \"r\") as f:\n",
    "        for line in f.readlines():\n",
    "            total_temp += float(line.strip(\"\\n\"))\n",
    "            # temp_list.append(float(line.strip(\"\\n\")))\n",
    "\n",
    "    # return sum(temp_list)\n",
    "    return total_temp\n",
    "\n",
    "temps = read_temps()\n",
    "print(f\"Temps: {temps:0.1f}\")\n"
   ]
  },
  {
   "attachments": {},
   "cell_type": "markdown",
   "metadata": {},
   "source": [
    "# سوال ۳\n",
    "\n",
    "۲ تابع بنویسد\n",
    "\n",
    "- تابع ۱ بیشترین دما\n",
    "- تابع ۲ کمترین دما\n",
    "\n",
    "را نشان دهد.\n",
    "\n",
    "- فایل نباید بیش از ۱ دفعه باز شود\n",
    "\n",
    "---\n",
    "\n",
    "در خروجی\n",
    "\n",
    "- بیشترین دما\n",
    "- کمترین دما\n",
    "- میانگین دما\n",
    "\n",
    "را نشان دهید.\n",
    "\n",
    "> فرمول میانگین ۲ عدد: (عدد۱ +‌ عدد۲) / ۲\n",
    "\n",
    "> n1 = 10, n2 = 5, average = (10 + 5) / 2 = 7.5"
   ]
  },
  {
   "cell_type": "code",
   "execution_count": 15,
   "metadata": {},
   "outputs": [
    {
     "name": "stdout",
     "output_type": "stream",
     "text": [
      "Hottest: 23.0\n",
      "Coldest: 8.1\n",
      "Avg: 15.55\n"
     ]
    }
   ],
   "source": [
    "# your code goes here\n",
    "\n",
    "def min_temp(temp_list):\n",
    "    min_item = float(\"+inf\")\n",
    "\n",
    "    for n in temp_list:\n",
    "        if n < min_item:\n",
    "            min_item = n\n",
    "    \n",
    "    return min_item\n",
    "\n",
    "def max_temp(temp_list):\n",
    "    max_item = float(\"-inf\")\n",
    "\n",
    "    for n in temp_list:\n",
    "        if n > max_item:\n",
    "            max_item = n\n",
    "    \n",
    "    return max_item\n",
    "\n",
    "\n",
    "##########################\n",
    "\n",
    "my_numbers = []\n",
    "\n",
    "# read temperatures & parse as float\n",
    "with open(\"city_temps.txt\", \"r\") as my_file:\n",
    "    for line in my_file.readlines():\n",
    "        my_numbers.append(float(line.strip(\"\\n\")))\n",
    "\n",
    "\n",
    "min_number = min_temp(my_numbers)\n",
    "max_number = max_temp(my_numbers)\n",
    "avg_number = (min_number + max_number) / 2\n",
    "\n",
    "print(f\"Hottest: {max_number}\")\n",
    "print(f\"Coldest: {min_number}\")\n",
    "print(f\"Avg: {avg_number:0.2f}\")"
   ]
  }
 ],
 "metadata": {
  "kernelspec": {
   "display_name": "Python 3",
   "language": "python",
   "name": "python3"
  },
  "language_info": {
   "codemirror_mode": {
    "name": "ipython",
    "version": 3
   },
   "file_extension": ".py",
   "mimetype": "text/x-python",
   "name": "python",
   "nbconvert_exporter": "python",
   "pygments_lexer": "ipython3",
   "version": "3.10.10"
  },
  "orig_nbformat": 4
 },
 "nbformat": 4,
 "nbformat_minor": 2
}
