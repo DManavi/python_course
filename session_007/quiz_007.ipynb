{
 "cells": [
  {
   "attachments": {},
   "cell_type": "markdown",
   "metadata": {},
   "source": [
    "# سوال جلسه هفتم\n",
    "\n",
    "- فایل نام شهرها city_names.txt\n",
    "- فایل دمای هوای شهرها city_temps.txt"
   ]
  },
  {
   "attachments": {},
   "cell_type": "markdown",
   "metadata": {},
   "source": [
    "## سوال ۱\n",
    "\n",
    "تابعی بنویسید که نام شهر و دمای هوای آن شهر را از کاربر گرفته و به انتهای فایل های مربوطه اضافه کند\n",
    "\n",
    "- نام شهر نمی تواند خالی باشد\n",
    "- دمای هوا باید در بازه -۷۵ الی +۷۵ باشد\n",
    "- تابع فقط باید نام و دمای یک شهر را دریافت کند\n",
    "\n",
    "در انتها از کاربر پرسیده شود که آیا ادامه می دهد؟ چنانچه کاربر گزینه بله را انتخاب کرد، نام شهر بعدی پرسیده شود. در غیر این صورد از برنامه خارج شوید."
   ]
  },
  {
   "cell_type": "code",
   "execution_count": 2,
   "metadata": {},
   "outputs": [],
   "source": [
    "# your code goes here"
   ]
  },
  {
   "attachments": {},
   "cell_type": "markdown",
   "metadata": {},
   "source": [
    "## سوال ۲\n",
    "\n",
    "تابعی بنویسید که دمای هوای شهرها را خوانده و مجموع آن را برگرداند"
   ]
  },
  {
   "cell_type": "code",
   "execution_count": null,
   "metadata": {},
   "outputs": [],
   "source": [
    "# your code goes here"
   ]
  },
  {
   "attachments": {},
   "cell_type": "markdown",
   "metadata": {},
   "source": [
    "# سوال ۳\n",
    "\n",
    "۲ تابع بنویسد\n",
    "\n",
    "- تابع ۱ بیشترین دما\n",
    "- تابع ۲ کمترین دما\n",
    "\n",
    "را نشان دهد.\n",
    "\n",
    "- فایل نباید بیش از ۱ دفعه باز شود\n",
    "\n",
    "---\n",
    "\n",
    "در خروجی\n",
    "\n",
    "- بیشترین دما\n",
    "- کمترین دما\n",
    "- میانگین دما\n",
    "\n",
    "را نشان دهید.\n",
    "\n",
    "> فرمول میانگین ۲ عدد: (عدد۱ +‌ عدد۲) / ۲\n",
    "\n",
    "> n1 = 10, n2 = 5, average = (10 + 5) / 2 = 7.5"
   ]
  },
  {
   "cell_type": "code",
   "execution_count": null,
   "metadata": {},
   "outputs": [],
   "source": [
    "# your code goes here"
   ]
  }
 ],
 "metadata": {
  "kernelspec": {
   "display_name": "Python 3",
   "language": "python",
   "name": "python3"
  },
  "language_info": {
   "codemirror_mode": {
    "name": "ipython",
    "version": 3
   },
   "file_extension": ".py",
   "mimetype": "text/x-python",
   "name": "python",
   "nbconvert_exporter": "python",
   "pygments_lexer": "ipython3",
   "version": "3.10.10"
  },
  "orig_nbformat": 4
 },
 "nbformat": 4,
 "nbformat_minor": 2
}
