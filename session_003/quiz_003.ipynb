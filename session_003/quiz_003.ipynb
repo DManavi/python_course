{
 "cells": [
  {
   "attachments": {},
   "cell_type": "markdown",
   "metadata": {},
   "source": [
    "## رشته"
   ]
  },
  {
   "attachments": {},
   "cell_type": "markdown",
   "metadata": {},
   "source": [
    "### رشته زیر را با روش های درخواست شده ایجاد کنید\n",
    "\n",
    "\n",
    "John Doe is working in Apple since 1999-09-09"
   ]
  },
  {
   "attachments": {},
   "cell_type": "markdown",
   "metadata": {},
   "source": [
    "### string concatenation / الصاق رشته ها"
   ]
  },
  {
   "cell_type": "code",
   "execution_count": 1,
   "metadata": {},
   "outputs": [],
   "source": [
    "first_name = \"John\"\n",
    "last_name = \"Doe\"\n",
    "\n",
    "company_name = \"Apple\"\n",
    "employment_date = \"1999-09-09\"\n",
    "\n",
    "# your code goes here\n"
   ]
  },
  {
   "attachments": {},
   "cell_type": "markdown",
   "metadata": {},
   "source": [
    "### تابع فرمت / بر اساس ایندکس"
   ]
  },
  {
   "cell_type": "code",
   "execution_count": null,
   "metadata": {},
   "outputs": [],
   "source": [
    "first_name = \"John\"\n",
    "last_name = \"Doe\"\n",
    "\n",
    "company_name = \"Apple\"\n",
    "employment_date = \"1999-09-09\"\n",
    "\n",
    "# your code goes here\n"
   ]
  },
  {
   "attachments": {},
   "cell_type": "markdown",
   "metadata": {},
   "source": [
    "### تابع فرمت / نام مستعار\n",
    "\n",
    "alias = نام مستعار"
   ]
  },
  {
   "cell_type": "code",
   "execution_count": null,
   "metadata": {},
   "outputs": [],
   "source": [
    "first_name = \"John\"\n",
    "last_name = \"Doe\"\n",
    "\n",
    "company_name = \"Apple\"\n",
    "employment_date = \"1999-09-09\"\n",
    "\n",
    "# your code goes here\n"
   ]
  },
  {
   "attachments": {},
   "cell_type": "markdown",
   "metadata": {},
   "source": [
    "## لیست"
   ]
  },
  {
   "attachments": {},
   "cell_type": "markdown",
   "metadata": {},
   "source": [
    "### معدل ۲ نفر آخر لیست را نمایش دهید"
   ]
  },
  {
   "cell_type": "code",
   "execution_count": 3,
   "metadata": {},
   "outputs": [
    {
     "name": "stdout",
     "output_type": "stream",
     "text": [
      "15.57\n",
      "17.02\n"
     ]
    }
   ],
   "source": [
    "scores = [\n",
    "    {\n",
    "        \"name\": \"John\",\n",
    "        \"score\": 18.84\n",
    "    },\n",
    "    {\n",
    "        \"name\": \"Alex\",\n",
    "        \"score\": 16.34\n",
    "    },\n",
    "    {\n",
    "        \"name\": \"Nick\",\n",
    "        \"score\": 17.02\n",
    "    },\n",
    "    {\n",
    "        \"name\": \"Arsen\",\n",
    "        \"score\": 15.57\n",
    "    }\n",
    "]\n",
    "\n",
    "# your code goes here\n"
   ]
  },
  {
   "attachments": {},
   "cell_type": "markdown",
   "metadata": {},
   "source": [
    "### نام و معدل خود را به انتهای لیست اضافه کنید و سپس در خروجی نمایش دهید (فقط معدل)"
   ]
  },
  {
   "cell_type": "code",
   "execution_count": 4,
   "metadata": {},
   "outputs": [],
   "source": [
    "scores = [\n",
    "    {\n",
    "        \"name\": \"John\",\n",
    "        \"score\": 18.84\n",
    "    },\n",
    "    {\n",
    "        \"name\": \"Alex\",\n",
    "        \"score\": 16.34\n",
    "    },\n",
    "    {\n",
    "        \"name\": \"Nick\",\n",
    "        \"score\": 17.02\n",
    "    },\n",
    "    {\n",
    "        \"name\": \"Arsen\",\n",
    "        \"score\": 15.57\n",
    "    }\n",
    "]\n",
    "\n",
    "# your code goes here\n"
   ]
  },
  {
   "attachments": {},
   "cell_type": "markdown",
   "metadata": {},
   "source": [
    "### معدل فرد دوم را به مقدار دلخواه تغییر دهید"
   ]
  },
  {
   "cell_type": "code",
   "execution_count": null,
   "metadata": {},
   "outputs": [],
   "source": [
    "scores = [\n",
    "    {\n",
    "        \"name\": \"John\",\n",
    "        \"score\": 18.84\n",
    "    },\n",
    "    {\n",
    "        \"name\": \"Alex\",\n",
    "        \"score\": 16.34\n",
    "    },\n",
    "    {\n",
    "        \"name\": \"Nick\",\n",
    "        \"score\": 17.02\n",
    "    },\n",
    "    {\n",
    "        \"name\": \"Arsen\",\n",
    "        \"score\": 15.57\n",
    "    }\n",
    "]\n",
    "\n",
    "# your code goes here\n"
   ]
  },
  {
   "attachments": {},
   "cell_type": "markdown",
   "metadata": {},
   "source": [
    "### رکورد اول و آخر از لیست معدل ها را حذف کنید"
   ]
  },
  {
   "cell_type": "code",
   "execution_count": null,
   "metadata": {},
   "outputs": [],
   "source": [
    "scores = [\n",
    "    {\n",
    "        \"name\": \"John\",\n",
    "        \"score\": 18.84\n",
    "    },\n",
    "    {\n",
    "        \"name\": \"Alex\",\n",
    "        \"score\": 16.34\n",
    "    },\n",
    "    {\n",
    "        \"name\": \"Nick\",\n",
    "        \"score\": 17.02\n",
    "    },\n",
    "    {\n",
    "        \"name\": \"Arsen\",\n",
    "        \"score\": 15.57\n",
    "    }\n",
    "]\n",
    "\n",
    "# your code goes here\n"
   ]
  },
  {
   "attachments": {},
   "cell_type": "markdown",
   "metadata": {},
   "source": [
    "### معدل خود را بین رکورد دوم و سوم وارد کنید"
   ]
  },
  {
   "cell_type": "code",
   "execution_count": null,
   "metadata": {},
   "outputs": [],
   "source": [
    "scores = [\n",
    "    {\n",
    "        \"name\": \"John\",\n",
    "        \"score\": 18.84\n",
    "    },\n",
    "    {\n",
    "        \"name\": \"Alex\",\n",
    "        \"score\": 16.34\n",
    "    },\n",
    "    {\n",
    "        \"name\": \"Nick\",\n",
    "        \"score\": 17.02\n",
    "    },\n",
    "    {\n",
    "        \"name\": \"Arsen\",\n",
    "        \"score\": 15.57\n",
    "    }\n",
    "]\n",
    "\n",
    "# your code goes here\n"
   ]
  },
  {
   "attachments": {},
   "cell_type": "markdown",
   "metadata": {},
   "source": [
    "### مراحل زیر را انجام دهید\n",
    "\n",
    "- یک کپی از لیست معدل ها تهیه کنید\n",
    "- لیست کپی شده را مرتب کنید به صورت نزولی\n",
    "- لیست اصلی را به صورت صعودی مرتب کنید"
   ]
  },
  {
   "cell_type": "code",
   "execution_count": null,
   "metadata": {},
   "outputs": [],
   "source": [
    "scores = [ 18.84, 16.34, 17.02, 15.57 ]\n",
    "\n",
    "# your code goes here"
   ]
  },
  {
   "attachments": {},
   "cell_type": "markdown",
   "metadata": {},
   "source": [
    "### اسامی همه شهرها را از لیست حذف کرده و با ۳ مقدار دلخواه لیست را پر کنید"
   ]
  },
  {
   "cell_type": "code",
   "execution_count": null,
   "metadata": {},
   "outputs": [],
   "source": [
    "cities = [ \"Kurdestan\", \"Amol\", \"Shiraz\", \"Abdanan\" ]\n",
    "\n",
    "# your code goes here\n"
   ]
  }
 ],
 "metadata": {
  "kernelspec": {
   "display_name": "Python 3",
   "language": "python",
   "name": "python3"
  },
  "language_info": {
   "codemirror_mode": {
    "name": "ipython",
    "version": 3
   },
   "file_extension": ".py",
   "mimetype": "text/x-python",
   "name": "python",
   "nbconvert_exporter": "python",
   "pygments_lexer": "ipython3",
   "version": "3.10.10"
  },
  "orig_nbformat": 4
 },
 "nbformat": 4,
 "nbformat_minor": 2
}
