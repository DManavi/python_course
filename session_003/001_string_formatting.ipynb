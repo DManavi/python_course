{
 "cells": [
  {
   "attachments": {},
   "cell_type": "markdown",
   "metadata": {},
   "source": [
    "# فرمت کردن رشته ها"
   ]
  },
  {
   "attachments": {},
   "cell_type": "markdown",
   "metadata": {},
   "source": [
    "## چسباندن/الصاق رشته ها"
   ]
  },
  {
   "cell_type": "code",
   "execution_count": 3,
   "metadata": {},
   "outputs": [
    {
     "name": "stdout",
     "output_type": "stream",
     "text": [
      "Danial Manavi was born on 1988-09-xx\n",
      "Address: 104-1234 16th, V6JXYZ\n"
     ]
    }
   ],
   "source": [
    "first_name = \"Danial\"\n",
    "last_name = \"Manavi\"\n",
    "\n",
    "birthday  = \"1988-09-xx\"\n",
    "\n",
    "address = \"104-1234 16th, V6JXYZ\"\n",
    "\n",
    "print(first_name + \" \" + last_name + \" was born on \" + birthday + \"\\n\" + \"Address: \" + address)"
   ]
  },
  {
   "attachments": {},
   "cell_type": "markdown",
   "metadata": {},
   "source": [
    "## استفاده از تابع فرمت در نوع داده رشته ای"
   ]
  },
  {
   "cell_type": "code",
   "execution_count": 30,
   "metadata": {},
   "outputs": [
    {
     "name": "stdout",
     "output_type": "stream",
     "text": [
      "Danial Manavi was born on 1988-09-xx\n",
      "1988-09-xx Danial was born on Manavi\n",
      "Danial Manavi was born on 1988-09-xx\n",
      "Microsoft was established in 1984\n",
      "Microsoft was established in 1984\n"
     ]
    }
   ],
   "source": [
    "first_name = \"Danial\"\n",
    "last_name = \"Manavi\"\n",
    "\n",
    "birthday = \"1988-09-xx\"\n",
    "\n",
    "# index-based\n",
    "print(\"{} {} was born on {}\".format(first_name, last_name, birthday))\n",
    "print(\"{2} {0} was born on {1}\".format(first_name, last_name, birthday))\n",
    "\n",
    "# key-based\n",
    "print(\"{fn} {ln} was born on {bd}\".format(fn = first_name, ln = last_name, bd = birthday))\n",
    "\n",
    "print(\"{company_name} was established in {est_date}\".format(company_name = \"Microsoft\", est_date = \"1984\"))\n",
    "print(\"{company_name} was established in {est_date}\".format(est_date = \"1984\", company_name = \"Microsoft\"))"
   ]
  },
  {
   "attachments": {},
   "cell_type": "markdown",
   "metadata": {},
   "source": [
    "## اعداد"
   ]
  },
  {
   "cell_type": "code",
   "execution_count": 39,
   "metadata": {},
   "outputs": [
    {
     "name": "stdout",
     "output_type": "stream",
     "text": [
      "Price: $103.49\n",
      "Price: $103.49\n",
      "Result:0.1287001287001287\n",
      "Result:0.12870\n",
      "Result:   0.12870\n",
      "Result:     0.129\n"
     ]
    }
   ],
   "source": [
    "price = 103.49\n",
    "\n",
    "print(\"Price: ${}\".format(price))\n",
    "print(\"Price: ${p}\".format(p = price))\n",
    "\n",
    "# {value:width.precision f}\n",
    "\n",
    "result = 100 / 777\n",
    "\n",
    "print(\"Result:{r}\".format(r = result))\n",
    "print(\"Result:{r:1.5f}\".format(r = result))\n",
    "\n",
    "print(\"Result:{r:10.5f}\".format(r = result))\n",
    "print(\"Result:{r:10.3f}\".format(r = result))"
   ]
  },
  {
   "attachments": {},
   "cell_type": "markdown",
   "metadata": {},
   "source": [
    "## string interpolation / f string"
   ]
  },
  {
   "cell_type": "code",
   "execution_count": 33,
   "metadata": {},
   "outputs": [
    {
     "name": "stdout",
     "output_type": "stream",
     "text": [
      "My name is Danial and I work in Microsoft\n",
      "Avg. is: 17.4\n"
     ]
    }
   ],
   "source": [
    "my_name = \"Danial\"\n",
    "company_name = \"Microsoft\"\n",
    "average = 17.45\n",
    "\n",
    "print(f\"My name is {my_name} and I work in {company_name}\")\n",
    "\n",
    "# {value:width.precision f}\n",
    "print(f\"Avg. is: {average:3.1f}\")"
   ]
  }
 ],
 "metadata": {
  "kernelspec": {
   "display_name": "Python 3",
   "language": "python",
   "name": "python3"
  },
  "language_info": {
   "codemirror_mode": {
    "name": "ipython",
    "version": 3
   },
   "file_extension": ".py",
   "mimetype": "text/x-python",
   "name": "python",
   "nbconvert_exporter": "python",
   "pygments_lexer": "ipython3",
   "version": "3.10.10"
  },
  "orig_nbformat": 4
 },
 "nbformat": 4,
 "nbformat_minor": 2
}
