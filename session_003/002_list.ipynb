{
 "cells": [
  {
   "attachments": {},
   "cell_type": "markdown",
   "metadata": {},
   "source": [
    "# لیست"
   ]
  },
  {
   "attachments": {},
   "cell_type": "markdown",
   "metadata": {},
   "source": [
    "## دسترسی از طریق ایندکس/اندیس"
   ]
  },
  {
   "cell_type": "code",
   "execution_count": 7,
   "metadata": {},
   "outputs": [
    {
     "name": "stdout",
     "output_type": "stream",
     "text": [
      "[1, 5, 9]\n"
     ]
    }
   ],
   "source": [
    "my_list = [1, 3, 5, 7 ,9, 11]\n",
    "\n",
    "# index-based access\n",
    "my_list[2]\n",
    "\n",
    "# slice\n",
    "my_list_2 = my_list[0::2]\n",
    "\n",
    "print(my_list_2)"
   ]
  },
  {
   "attachments": {},
   "cell_type": "markdown",
   "metadata": {},
   "source": [
    "## چسباندن/مرج/الصاق دو یا چند لیست"
   ]
  },
  {
   "cell_type": "code",
   "execution_count": 10,
   "metadata": {},
   "outputs": [
    {
     "data": {
      "text/plain": [
       "['Ahvaz',\n",
       " 'Esfahan',\n",
       " 'Tehran',\n",
       " 'Tehran',\n",
       " 'Tehran',\n",
       " 'Danial',\n",
       " 'Kamyar',\n",
       " 'Fereshteh',\n",
       " 'Mohamadreza',\n",
       " 'Meysam',\n",
       " 'Tehran',\n",
       " 10,\n",
       " 15,\n",
       " 25,\n",
       " 'Tehran']"
      ]
     },
     "execution_count": 10,
     "metadata": {},
     "output_type": "execute_result"
    }
   ],
   "source": [
    "city_list = ['Ahvaz', \"Esfahan\", 'Tehran', \"Tehran\", \"Tehran\"]\n",
    "people_list = [\"Danial\", \"Kamyar\", \"Fereshteh\", \"Mohamadreza\", \"Meysam\", \"Tehran\"]\n",
    "population_list = [10, 15, 25, \"Tehran\"]\n",
    "\n",
    "city_list + people_list + population_list"
   ]
  },
  {
   "attachments": {},
   "cell_type": "markdown",
   "metadata": {},
   "source": [
    "## متدها/توابع"
   ]
  },
  {
   "attachments": {},
   "cell_type": "markdown",
   "metadata": {},
   "source": [
    "### پاک کردن لیست"
   ]
  },
  {
   "cell_type": "code",
   "execution_count": 15,
   "metadata": {},
   "outputs": [
    {
     "name": "stdout",
     "output_type": "stream",
     "text": [
      "[]\n"
     ]
    }
   ],
   "source": [
    "scores = [1,3,5,7]\n",
    "\n",
    "# in-place function\n",
    "scores.clear()\n",
    "\n",
    "print(scores)"
   ]
  },
  {
   "attachments": {},
   "cell_type": "markdown",
   "metadata": {},
   "source": [
    "### اضافه کردن به لیست"
   ]
  },
  {
   "cell_type": "code",
   "execution_count": 32,
   "metadata": {},
   "outputs": [
    {
     "name": "stdout",
     "output_type": "stream",
     "text": [
      "['p1', 'p2', 'p0']\n"
     ]
    }
   ],
   "source": [
    "player_names = [\"p1\", \"p2\"]\n",
    "\n",
    "# add item to list\n",
    "# in-place function\n",
    "player_names.append(\"p3\")\n",
    "print(player_names)\n",
    "\n",
    "# insert item at a certain index\n",
    "player_names.insert(len(player_names), \"p0\")\n",
    "player_names.insert(2, \"p0\")\n",
    "print(player_names)"
   ]
  },
  {
   "attachments": {},
   "cell_type": "markdown",
   "metadata": {},
   "source": [
    "### حذف از لیست"
   ]
  },
  {
   "cell_type": "code",
   "execution_count": null,
   "metadata": {},
   "outputs": [],
   "source": [
    "player_names = [\"p1\", \"p2\"]\n",
    "\n",
    "# in-place function\n",
    "\n",
    "# removes last item\n",
    "player_names.pop()\n",
    "print(player_names)\n",
    "\n",
    "# removes first item\n",
    "player_names.pop(0)\n",
    "print(player_names)"
   ]
  },
  {
   "attachments": {},
   "cell_type": "markdown",
   "metadata": {},
   "source": [
    "### مرتب سازی"
   ]
  },
  {
   "cell_type": "code",
   "execution_count": 24,
   "metadata": {},
   "outputs": [
    {
     "name": "stdout",
     "output_type": "stream",
     "text": [
      "[17.4, 16.99, 13.8, 15.3, 7.63]\n",
      "[17.4, 16.99, 15.3, 13.8, 7.63]\n",
      "['Turkey', 'Netherland', 'Iraq', 'Iran', 'Canada']\n"
     ]
    }
   ],
   "source": [
    "scores = [17.4, 16.99, 13.8, 15.3, 7.63]\n",
    "\n",
    "print(scores)\n",
    "\n",
    "scores.sort()\n",
    "scores.reverse()\n",
    "print(scores)\n",
    "\n",
    "countries = [\"Iran\", \"Canada\", \"Netherland\", \"Iraq\", \"Turkey\"]\n",
    "\n",
    "countries.sort()\n",
    "countries.reverse()\n",
    "print(countries)"
   ]
  },
  {
   "attachments": {},
   "cell_type": "markdown",
   "metadata": {},
   "source": [
    "### وارونه کردن لیست"
   ]
  },
  {
   "cell_type": "code",
   "execution_count": null,
   "metadata": {},
   "outputs": [],
   "source": [
    "countries = [\"Iran\", \"Canada\", \"Netherland\", \"Iraq\", \"Turkey\"]\n",
    "\n",
    "# ascending sort - مرتب سازی صعودی\n",
    "countries.sort()\n",
    "\n",
    "# لیست کشورها مرتب شده بر اساس نام\n",
    "print(countries)\n"
   ]
  },
  {
   "attachments": {},
   "cell_type": "markdown",
   "metadata": {},
   "source": [
    "### ترکیب مرتب سازی و وارونه کردن"
   ]
  },
  {
   "cell_type": "code",
   "execution_count": null,
   "metadata": {},
   "outputs": [],
   "source": [
    "# لیست نمرات را به صورت نزولی نمایش دهید\n",
    "\n",
    "scores = [17.4, 16.99, 13.8, 15.3, 7.63]\n",
    "\n",
    "print(scores)\n",
    "\n",
    "# ascending sort - مرتب سازی صعودی\n",
    "scores.sort()\n",
    "\n",
    "# reverse the list - معکوس سازی لیست\n",
    "scores.reverse()\n",
    "\n",
    "# descendingly sorted items - لیست به صورت نزولی مرتب شد\n",
    "print(scores)"
   ]
  }
 ],
 "metadata": {
  "kernelspec": {
   "display_name": "Python 3",
   "language": "python",
   "name": "python3"
  },
  "language_info": {
   "codemirror_mode": {
    "name": "ipython",
    "version": 3
   },
   "file_extension": ".py",
   "mimetype": "text/x-python",
   "name": "python",
   "nbconvert_exporter": "python",
   "pygments_lexer": "ipython3",
   "version": "3.10.10"
  },
  "orig_nbformat": 4
 },
 "nbformat": 4,
 "nbformat_minor": 2
}
